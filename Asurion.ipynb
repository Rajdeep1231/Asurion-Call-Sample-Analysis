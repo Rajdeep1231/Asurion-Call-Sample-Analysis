{
 "cells": [
  {
   "cell_type": "markdown",
   "metadata": {},
   "source": [
    "# Analyzing and deriving insights from the Call_Sample dataset!"
   ]
  },
  {
   "cell_type": "markdown",
   "metadata": {},
   "source": [
    "This dataset contains manually recorded weekly averages of Service Time (in seconds) and Quality Score (on a 10-point scale) reported across multiple sites, clients, supervisors, and agents for five consecutive weeks. The key metrics here are Service Time and Quality Score, and the task in hand is exploring potential relationships between these and the remaining other features in the dataset. But before we can start analyzing the dataset, we need to mould the data to our use. So, let us start by first importing the libraries!"
   ]
  },
  {
   "cell_type": "code",
   "execution_count": 9,
   "metadata": {},
   "outputs": [],
   "source": [
    "import numpy as np\n",
    "import matplotlib.pyplot as plt\n",
    "import pandas as pd\n",
    "import seaborn as sns\n",
    "import scipy.stats as stats"
   ]
  },
  {
   "cell_type": "markdown",
   "metadata": {},
   "source": [
    "Now that we have the libraries in place, let us import the data and see how it looks!"
   ]
  },
  {
   "cell_type": "code",
   "execution_count": 10,
   "metadata": {},
   "outputs": [
    {
     "data": {
      "text/html": [
       "<div>\n",
       "<style scoped>\n",
       "    .dataframe tbody tr th:only-of-type {\n",
       "        vertical-align: middle;\n",
       "    }\n",
       "\n",
       "    .dataframe tbody tr th {\n",
       "        vertical-align: top;\n",
       "    }\n",
       "\n",
       "    .dataframe thead th {\n",
       "        text-align: right;\n",
       "    }\n",
       "</style>\n",
       "<table border=\"1\" class=\"dataframe\">\n",
       "  <thead>\n",
       "    <tr style=\"text-align: right;\">\n",
       "      <th></th>\n",
       "      <th>Site</th>\n",
       "      <th>Client</th>\n",
       "      <th>Supervisor</th>\n",
       "      <th>Agent</th>\n",
       "      <th>Week</th>\n",
       "      <th>Service Time</th>\n",
       "      <th>Quality Score</th>\n",
       "    </tr>\n",
       "  </thead>\n",
       "  <tbody>\n",
       "    <tr>\n",
       "      <th>0</th>\n",
       "      <td>East</td>\n",
       "      <td>A</td>\n",
       "      <td>Brian</td>\n",
       "      <td>41</td>\n",
       "      <td>1</td>\n",
       "      <td>509.0</td>\n",
       "      <td>6.5</td>\n",
       "    </tr>\n",
       "    <tr>\n",
       "      <th>1</th>\n",
       "      <td>East</td>\n",
       "      <td>A</td>\n",
       "      <td>Brian</td>\n",
       "      <td>41</td>\n",
       "      <td>2</td>\n",
       "      <td>505.0</td>\n",
       "      <td>6.9</td>\n",
       "    </tr>\n",
       "    <tr>\n",
       "      <th>2</th>\n",
       "      <td>East</td>\n",
       "      <td>A</td>\n",
       "      <td>Brian</td>\n",
       "      <td>41</td>\n",
       "      <td>3</td>\n",
       "      <td>NaN</td>\n",
       "      <td>5.9</td>\n",
       "    </tr>\n",
       "    <tr>\n",
       "      <th>3</th>\n",
       "      <td>East</td>\n",
       "      <td>A</td>\n",
       "      <td>Brian</td>\n",
       "      <td>41</td>\n",
       "      <td>4</td>\n",
       "      <td>505.0</td>\n",
       "      <td>7.1</td>\n",
       "    </tr>\n",
       "    <tr>\n",
       "      <th>4</th>\n",
       "      <td>East</td>\n",
       "      <td>A</td>\n",
       "      <td>Brian</td>\n",
       "      <td>41</td>\n",
       "      <td>5</td>\n",
       "      <td>511.0</td>\n",
       "      <td>9.1</td>\n",
       "    </tr>\n",
       "  </tbody>\n",
       "</table>\n",
       "</div>"
      ],
      "text/plain": [
       "   Site Client Supervisor  Agent  Week  Service Time  Quality Score\n",
       "0  East      A      Brian     41     1         509.0            6.5\n",
       "1  East      A      Brian     41     2         505.0            6.9\n",
       "2  East      A      Brian     41     3           NaN            5.9\n",
       "3  East      A      Brian     41     4         505.0            7.1\n",
       "4  East      A      Brian     41     5         511.0            9.1"
      ]
     },
     "execution_count": 10,
     "metadata": {},
     "output_type": "execute_result"
    }
   ],
   "source": [
    "Data = pd.read_csv('Call Sample.csv')\n",
    "Data.head()"
   ]
  },
  {
   "cell_type": "code",
   "execution_count": 11,
   "metadata": {},
   "outputs": [
    {
     "data": {
      "text/plain": [
       "(240, 7)"
      ]
     },
     "execution_count": 11,
     "metadata": {},
     "output_type": "execute_result"
    }
   ],
   "source": [
    "Data.shape #Dimensions"
   ]
  },
  {
   "cell_type": "code",
   "execution_count": 12,
   "metadata": {},
   "outputs": [
    {
     "name": "stdout",
     "output_type": "stream",
     "text": [
      "<class 'pandas.core.frame.DataFrame'>\n",
      "RangeIndex: 240 entries, 0 to 239\n",
      "Data columns (total 7 columns):\n",
      " #   Column         Non-Null Count  Dtype  \n",
      "---  ------         --------------  -----  \n",
      " 0   Site           240 non-null    object \n",
      " 1   Client         240 non-null    object \n",
      " 2   Supervisor     240 non-null    object \n",
      " 3   Agent          240 non-null    int64  \n",
      " 4   Week           240 non-null    int64  \n",
      " 5   Service Time   231 non-null    float64\n",
      " 6   Quality Score  234 non-null    float64\n",
      "dtypes: float64(2), int64(2), object(3)\n",
      "memory usage: 13.2+ KB\n"
     ]
    }
   ],
   "source": [
    "Data.info() #Information about Data"
   ]
  },
  {
   "cell_type": "markdown",
   "metadata": {},
   "source": [
    "So we know that our data comprises of 240 observations with 7 features. Furthermore, we can see that there are some features other than Service Time (Numeric) and Quality Score (Numeric). These are Site (Categorical), Client (Categorical), Supervisor (Categorical), Agent(Categorical) and Week (Categorical). Now let us do some basic preprocessing so that we can start with our analysis. "
   ]
  },
  {
   "cell_type": "markdown",
   "metadata": {},
   "source": [
    "# Preprocessing and Studying the Dataset!"
   ]
  },
  {
   "cell_type": "markdown",
   "metadata": {},
   "source": [
    "Let us make a copy of the data and work on it rather than using the original data."
   ]
  },
  {
   "cell_type": "code",
   "execution_count": 13,
   "metadata": {},
   "outputs": [],
   "source": [
    "my_data = Data.copy()"
   ]
  },
  {
   "cell_type": "markdown",
   "metadata": {},
   "source": [
    "Now let us see some descriptive statistics about our dataset to get an idea of the values we're dealing with."
   ]
  },
  {
   "cell_type": "code",
   "execution_count": 14,
   "metadata": {},
   "outputs": [
    {
     "data": {
      "text/html": [
       "<div>\n",
       "<style scoped>\n",
       "    .dataframe tbody tr th:only-of-type {\n",
       "        vertical-align: middle;\n",
       "    }\n",
       "\n",
       "    .dataframe tbody tr th {\n",
       "        vertical-align: top;\n",
       "    }\n",
       "\n",
       "    .dataframe thead th {\n",
       "        text-align: right;\n",
       "    }\n",
       "</style>\n",
       "<table border=\"1\" class=\"dataframe\">\n",
       "  <thead>\n",
       "    <tr style=\"text-align: right;\">\n",
       "      <th></th>\n",
       "      <th>Site</th>\n",
       "      <th>Client</th>\n",
       "      <th>Supervisor</th>\n",
       "    </tr>\n",
       "  </thead>\n",
       "  <tbody>\n",
       "    <tr>\n",
       "      <th>count</th>\n",
       "      <td>240</td>\n",
       "      <td>240</td>\n",
       "      <td>240</td>\n",
       "    </tr>\n",
       "    <tr>\n",
       "      <th>unique</th>\n",
       "      <td>3</td>\n",
       "      <td>2</td>\n",
       "      <td>22</td>\n",
       "    </tr>\n",
       "    <tr>\n",
       "      <th>top</th>\n",
       "      <td>East</td>\n",
       "      <td>B</td>\n",
       "      <td>Brian</td>\n",
       "    </tr>\n",
       "    <tr>\n",
       "      <th>freq</th>\n",
       "      <td>80</td>\n",
       "      <td>120</td>\n",
       "      <td>20</td>\n",
       "    </tr>\n",
       "  </tbody>\n",
       "</table>\n",
       "</div>"
      ],
      "text/plain": [
       "        Site Client Supervisor\n",
       "count    240    240        240\n",
       "unique     3      2         22\n",
       "top     East      B      Brian\n",
       "freq      80    120         20"
      ]
     },
     "execution_count": 14,
     "metadata": {},
     "output_type": "execute_result"
    }
   ],
   "source": [
    "my_data.describe(include=['O'])"
   ]
  },
  {
   "cell_type": "code",
   "execution_count": 15,
   "metadata": {},
   "outputs": [
    {
     "data": {
      "text/html": [
       "<div>\n",
       "<style scoped>\n",
       "    .dataframe tbody tr th:only-of-type {\n",
       "        vertical-align: middle;\n",
       "    }\n",
       "\n",
       "    .dataframe tbody tr th {\n",
       "        vertical-align: top;\n",
       "    }\n",
       "\n",
       "    .dataframe thead th {\n",
       "        text-align: right;\n",
       "    }\n",
       "</style>\n",
       "<table border=\"1\" class=\"dataframe\">\n",
       "  <thead>\n",
       "    <tr style=\"text-align: right;\">\n",
       "      <th></th>\n",
       "      <th>Agent</th>\n",
       "      <th>Week</th>\n",
       "      <th>Service Time</th>\n",
       "      <th>Quality Score</th>\n",
       "    </tr>\n",
       "  </thead>\n",
       "  <tbody>\n",
       "    <tr>\n",
       "      <th>count</th>\n",
       "      <td>240.000000</td>\n",
       "      <td>240.000000</td>\n",
       "      <td>231.000000</td>\n",
       "      <td>234.000000</td>\n",
       "    </tr>\n",
       "    <tr>\n",
       "      <th>mean</th>\n",
       "      <td>24.500000</td>\n",
       "      <td>3.000000</td>\n",
       "      <td>475.125541</td>\n",
       "      <td>6.895299</td>\n",
       "    </tr>\n",
       "    <tr>\n",
       "      <th>std</th>\n",
       "      <td>13.882351</td>\n",
       "      <td>1.417169</td>\n",
       "      <td>40.263337</td>\n",
       "      <td>1.222263</td>\n",
       "    </tr>\n",
       "    <tr>\n",
       "      <th>min</th>\n",
       "      <td>1.000000</td>\n",
       "      <td>1.000000</td>\n",
       "      <td>402.000000</td>\n",
       "      <td>4.300000</td>\n",
       "    </tr>\n",
       "    <tr>\n",
       "      <th>25%</th>\n",
       "      <td>12.750000</td>\n",
       "      <td>2.000000</td>\n",
       "      <td>451.000000</td>\n",
       "      <td>5.900000</td>\n",
       "    </tr>\n",
       "    <tr>\n",
       "      <th>50%</th>\n",
       "      <td>24.500000</td>\n",
       "      <td>3.000000</td>\n",
       "      <td>470.000000</td>\n",
       "      <td>6.900000</td>\n",
       "    </tr>\n",
       "    <tr>\n",
       "      <th>75%</th>\n",
       "      <td>36.250000</td>\n",
       "      <td>4.000000</td>\n",
       "      <td>511.000000</td>\n",
       "      <td>7.700000</td>\n",
       "    </tr>\n",
       "    <tr>\n",
       "      <th>max</th>\n",
       "      <td>48.000000</td>\n",
       "      <td>5.000000</td>\n",
       "      <td>550.000000</td>\n",
       "      <td>9.300000</td>\n",
       "    </tr>\n",
       "  </tbody>\n",
       "</table>\n",
       "</div>"
      ],
      "text/plain": [
       "            Agent        Week  Service Time  Quality Score\n",
       "count  240.000000  240.000000    231.000000     234.000000\n",
       "mean    24.500000    3.000000    475.125541       6.895299\n",
       "std     13.882351    1.417169     40.263337       1.222263\n",
       "min      1.000000    1.000000    402.000000       4.300000\n",
       "25%     12.750000    2.000000    451.000000       5.900000\n",
       "50%     24.500000    3.000000    470.000000       6.900000\n",
       "75%     36.250000    4.000000    511.000000       7.700000\n",
       "max     48.000000    5.000000    550.000000       9.300000"
      ]
     },
     "execution_count": 15,
     "metadata": {},
     "output_type": "execute_result"
    }
   ],
   "source": [
    "my_data.describe() #Descriptive Statistics"
   ]
  },
  {
   "cell_type": "markdown",
   "metadata": {},
   "source": [
    "**Hey, there's something weird here!** If you notice the counts, you can see that we only have 231(Service Time) and 234 (Quality Score). What could be the reason? Well, let's check it out.\n",
    "\n",
    "Another weird thing you can notice is that Agent and Week are categorical variables but they have statistics like mean and standard deviation. That isn't right! It's just a coicidence that they are numeric categorical variables. This wouldn't have occured if they were say alphabet-based like Site or Client. But either ways, let's proceed."
   ]
  },
  {
   "cell_type": "code",
   "execution_count": 16,
   "metadata": {},
   "outputs": [
    {
     "data": {
      "text/plain": [
       "Site             0\n",
       "Client           0\n",
       "Supervisor       0\n",
       "Agent            0\n",
       "Week             0\n",
       "Service Time     9\n",
       "Quality Score    6\n",
       "dtype: int64"
      ]
     },
     "execution_count": 16,
     "metadata": {},
     "output_type": "execute_result"
    }
   ],
   "source": [
    "my_data.isnull().sum()  #Sum of missing values per column"
   ]
  },
  {
   "cell_type": "markdown",
   "metadata": {},
   "source": [
    "Well, that's what I thought. You can see that there are missing values for Service Time (9) and Quality Score (6), which add up to what we saw before. Now let's see the ones that have missing values!"
   ]
  },
  {
   "cell_type": "code",
   "execution_count": 17,
   "metadata": {},
   "outputs": [
    {
     "data": {
      "text/html": [
       "<div>\n",
       "<style scoped>\n",
       "    .dataframe tbody tr th:only-of-type {\n",
       "        vertical-align: middle;\n",
       "    }\n",
       "\n",
       "    .dataframe tbody tr th {\n",
       "        vertical-align: top;\n",
       "    }\n",
       "\n",
       "    .dataframe thead th {\n",
       "        text-align: right;\n",
       "    }\n",
       "</style>\n",
       "<table border=\"1\" class=\"dataframe\">\n",
       "  <thead>\n",
       "    <tr style=\"text-align: right;\">\n",
       "      <th></th>\n",
       "      <th>Site</th>\n",
       "      <th>Client</th>\n",
       "      <th>Supervisor</th>\n",
       "      <th>Agent</th>\n",
       "      <th>Week</th>\n",
       "      <th>Service Time</th>\n",
       "      <th>Quality Score</th>\n",
       "    </tr>\n",
       "  </thead>\n",
       "  <tbody>\n",
       "    <tr>\n",
       "      <th>2</th>\n",
       "      <td>East</td>\n",
       "      <td>A</td>\n",
       "      <td>Brian</td>\n",
       "      <td>41</td>\n",
       "      <td>3</td>\n",
       "      <td>NaN</td>\n",
       "      <td>5.9</td>\n",
       "    </tr>\n",
       "    <tr>\n",
       "      <th>8</th>\n",
       "      <td>East</td>\n",
       "      <td>A</td>\n",
       "      <td>Brian</td>\n",
       "      <td>42</td>\n",
       "      <td>4</td>\n",
       "      <td>512.0</td>\n",
       "      <td>NaN</td>\n",
       "    </tr>\n",
       "    <tr>\n",
       "      <th>15</th>\n",
       "      <td>East</td>\n",
       "      <td>A</td>\n",
       "      <td>Brian</td>\n",
       "      <td>44</td>\n",
       "      <td>1</td>\n",
       "      <td>NaN</td>\n",
       "      <td>7.5</td>\n",
       "    </tr>\n",
       "    <tr>\n",
       "      <th>38</th>\n",
       "      <td>East</td>\n",
       "      <td>A</td>\n",
       "      <td>JORGE</td>\n",
       "      <td>20</td>\n",
       "      <td>4</td>\n",
       "      <td>NaN</td>\n",
       "      <td>7.4</td>\n",
       "    </tr>\n",
       "    <tr>\n",
       "      <th>59</th>\n",
       "      <td>East</td>\n",
       "      <td>B</td>\n",
       "      <td>George</td>\n",
       "      <td>48</td>\n",
       "      <td>5</td>\n",
       "      <td>NaN</td>\n",
       "      <td>7.7</td>\n",
       "    </tr>\n",
       "    <tr>\n",
       "      <th>69</th>\n",
       "      <td>East</td>\n",
       "      <td>B</td>\n",
       "      <td>Sarah</td>\n",
       "      <td>23</td>\n",
       "      <td>1</td>\n",
       "      <td>413.0</td>\n",
       "      <td>NaN</td>\n",
       "    </tr>\n",
       "    <tr>\n",
       "      <th>90</th>\n",
       "      <td>North</td>\n",
       "      <td>A</td>\n",
       "      <td>John</td>\n",
       "      <td>4</td>\n",
       "      <td>2</td>\n",
       "      <td>NaN</td>\n",
       "      <td>7.7</td>\n",
       "    </tr>\n",
       "    <tr>\n",
       "      <th>99</th>\n",
       "      <td>North</td>\n",
       "      <td>A</td>\n",
       "      <td>JOHNATHAN</td>\n",
       "      <td>3</td>\n",
       "      <td>5</td>\n",
       "      <td>452.0</td>\n",
       "      <td>NaN</td>\n",
       "    </tr>\n",
       "    <tr>\n",
       "      <th>121</th>\n",
       "      <td>North</td>\n",
       "      <td>B</td>\n",
       "      <td>Eric</td>\n",
       "      <td>29</td>\n",
       "      <td>2</td>\n",
       "      <td>NaN</td>\n",
       "      <td>4.3</td>\n",
       "    </tr>\n",
       "    <tr>\n",
       "      <th>159</th>\n",
       "      <td>North</td>\n",
       "      <td>B</td>\n",
       "      <td>SAMANTHA</td>\n",
       "      <td>8</td>\n",
       "      <td>5</td>\n",
       "      <td>446.0</td>\n",
       "      <td>NaN</td>\n",
       "    </tr>\n",
       "    <tr>\n",
       "      <th>169</th>\n",
       "      <td>South</td>\n",
       "      <td>A</td>\n",
       "      <td>Andrew</td>\n",
       "      <td>11</td>\n",
       "      <td>1</td>\n",
       "      <td>NaN</td>\n",
       "      <td>6.4</td>\n",
       "    </tr>\n",
       "    <tr>\n",
       "      <th>199</th>\n",
       "      <td>South</td>\n",
       "      <td>A</td>\n",
       "      <td>David</td>\n",
       "      <td>36</td>\n",
       "      <td>5</td>\n",
       "      <td>NaN</td>\n",
       "      <td>8.8</td>\n",
       "    </tr>\n",
       "    <tr>\n",
       "      <th>222</th>\n",
       "      <td>South</td>\n",
       "      <td>B</td>\n",
       "      <td>Michael</td>\n",
       "      <td>13</td>\n",
       "      <td>3</td>\n",
       "      <td>519.0</td>\n",
       "      <td>NaN</td>\n",
       "    </tr>\n",
       "    <tr>\n",
       "      <th>233</th>\n",
       "      <td>South</td>\n",
       "      <td>B</td>\n",
       "      <td>Michael</td>\n",
       "      <td>16</td>\n",
       "      <td>2</td>\n",
       "      <td>NaN</td>\n",
       "      <td>5.4</td>\n",
       "    </tr>\n",
       "    <tr>\n",
       "      <th>238</th>\n",
       "      <td>South</td>\n",
       "      <td>B</td>\n",
       "      <td>MICHAEL</td>\n",
       "      <td>15</td>\n",
       "      <td>4</td>\n",
       "      <td>508.0</td>\n",
       "      <td>NaN</td>\n",
       "    </tr>\n",
       "  </tbody>\n",
       "</table>\n",
       "</div>"
      ],
      "text/plain": [
       "      Site Client Supervisor  Agent  Week  Service Time  Quality Score\n",
       "2     East      A      Brian     41     3           NaN            5.9\n",
       "8     East      A      Brian     42     4         512.0            NaN\n",
       "15    East      A      Brian     44     1           NaN            7.5\n",
       "38    East      A      JORGE     20     4           NaN            7.4\n",
       "59    East      B     George     48     5           NaN            7.7\n",
       "69    East      B      Sarah     23     1         413.0            NaN\n",
       "90   North      A       John      4     2           NaN            7.7\n",
       "99   North      A  JOHNATHAN      3     5         452.0            NaN\n",
       "121  North      B       Eric     29     2           NaN            4.3\n",
       "159  North      B   SAMANTHA      8     5         446.0            NaN\n",
       "169  South      A     Andrew     11     1           NaN            6.4\n",
       "199  South      A      David     36     5           NaN            8.8\n",
       "222  South      B    Michael     13     3         519.0            NaN\n",
       "233  South      B    Michael     16     2           NaN            5.4\n",
       "238  South      B    MICHAEL     15     4         508.0            NaN"
      ]
     },
     "execution_count": 17,
     "metadata": {},
     "output_type": "execute_result"
    }
   ],
   "source": [
    "my_data[my_data.isnull().any(axis=1)]  #Rows with missing values"
   ]
  },
  {
   "cell_type": "markdown",
   "metadata": {},
   "source": [
    "Let us impute these missing values with the mean of the columns. This could be a good way of handling the missing values. As there are just two features with missing values, I'll just do it manually using Pandas. If there had been a lot of features with missing values, then I would have gone with Imputer from Sklearn!"
   ]
  },
  {
   "cell_type": "code",
   "execution_count": 18,
   "metadata": {},
   "outputs": [],
   "source": [
    "#Replace missing values with mean\n",
    "\n",
    "my_data['Service Time'].replace(np.NaN,my_data['Service Time'].mean(),inplace = True) \n",
    "my_data['Quality Score'].replace(np.NaN,my_data['Quality Score'].mean(),inplace = True)"
   ]
  },
  {
   "cell_type": "markdown",
   "metadata": {},
   "source": [
    "Done! Now, let us check missing values in the data."
   ]
  },
  {
   "cell_type": "code",
   "execution_count": 19,
   "metadata": {
    "scrolled": true
   },
   "outputs": [
    {
     "data": {
      "text/plain": [
       "Site             0\n",
       "Client           0\n",
       "Supervisor       0\n",
       "Agent            0\n",
       "Week             0\n",
       "Service Time     0\n",
       "Quality Score    0\n",
       "dtype: int64"
      ]
     },
     "execution_count": 19,
     "metadata": {},
     "output_type": "execute_result"
    }
   ],
   "source": [
    "my_data.isnull().sum() #Sum of missing values per column"
   ]
  },
  {
   "cell_type": "markdown",
   "metadata": {},
   "source": [
    "Awesome! Now let us check if there are duplicate rows in our data!"
   ]
  },
  {
   "cell_type": "code",
   "execution_count": 20,
   "metadata": {},
   "outputs": [
    {
     "data": {
      "text/plain": [
       "(0, 7)"
      ]
     },
     "execution_count": 20,
     "metadata": {},
     "output_type": "execute_result"
    }
   ],
   "source": [
    "my_data[my_data.duplicated()].shape"
   ]
  },
  {
   "cell_type": "markdown",
   "metadata": {},
   "source": [
    "We don't have any duplicate rows!\n",
    "\n",
    "Great! Now, let us see the unique values for each of the categorical variables to get an idea of the levels that are there!"
   ]
  },
  {
   "cell_type": "code",
   "execution_count": 21,
   "metadata": {},
   "outputs": [
    {
     "data": {
      "text/plain": [
       "array(['East', 'North', 'South'], dtype=object)"
      ]
     },
     "execution_count": 21,
     "metadata": {},
     "output_type": "execute_result"
    }
   ],
   "source": [
    "my_data['Site'].unique() "
   ]
  },
  {
   "cell_type": "code",
   "execution_count": 22,
   "metadata": {},
   "outputs": [
    {
     "data": {
      "text/plain": [
       "array(['A', 'B'], dtype=object)"
      ]
     },
     "execution_count": 22,
     "metadata": {},
     "output_type": "execute_result"
    }
   ],
   "source": [
    "my_data['Client'].unique()"
   ]
  },
  {
   "cell_type": "code",
   "execution_count": 23,
   "metadata": {},
   "outputs": [
    {
     "data": {
      "text/plain": [
       "array([41, 42, 43, 44, 17, 18, 19, 20, 45, 46, 47, 48, 21, 22, 23, 24,  1,\n",
       "        2,  3,  4, 25, 26, 27, 28, 29, 30, 31, 32,  5,  6,  7,  8, 11,  9,\n",
       "       10, 12, 33, 34, 35, 36, 37, 38, 39, 40, 13, 14, 15, 16])"
      ]
     },
     "execution_count": 23,
     "metadata": {},
     "output_type": "execute_result"
    }
   ],
   "source": [
    "my_data['Agent'].unique()"
   ]
  },
  {
   "cell_type": "code",
   "execution_count": 24,
   "metadata": {},
   "outputs": [
    {
     "data": {
      "text/plain": [
       "array(['Brian', 'Jorge', 'JORGE', 'JORRGE', 'George', 'SARA', 'Sarah',\n",
       "       'SARAH', 'John', 'JOHN', 'JOHNATHAN', 'Kathy', 'Eric', 'Samantha',\n",
       "       'SAMANTHA', 'ADREEW', 'Andrew', 'ANDREW', 'David', 'Julie',\n",
       "       'Michael', 'MICHAEL'], dtype=object)"
      ]
     },
     "execution_count": 24,
     "metadata": {},
     "output_type": "execute_result"
    }
   ],
   "source": [
    "my_data['Supervisor'].unique()"
   ]
  },
  {
   "cell_type": "markdown",
   "metadata": {},
   "source": [
    "**Hey! Let's talk about the unique values in the column Supervisor:**\n",
    "\n",
    "1- We can see that some names are entirely in upper case. Like for the name Sarah, what my interpretation is that Sarah and SARAH are the same supervisors. Similarly for Andrew and ANDREW. So, we can basically fix that so that we don't have repeating values.\n",
    "\n",
    "2- Another thing that we can see is that some names are misspelt. Like JORGE and JORRGE. Well, in reality, there could be two people with both those names but from human interpretation and observation, I feel that they are the same people. Same goes for ADREEW and ANDREW. So I will treat them the same and fix this as well."
   ]
  },
  {
   "cell_type": "code",
   "execution_count": 25,
   "metadata": {},
   "outputs": [],
   "source": [
    "#Capitalize converts the first letter to upper case and rest lower case.\n",
    "my_data['Supervisor']=my_data['Supervisor'].str.capitalize() "
   ]
  },
  {
   "cell_type": "code",
   "execution_count": 26,
   "metadata": {},
   "outputs": [
    {
     "data": {
      "text/plain": [
       "array(['Brian', 'Jorge', 'Jorrge', 'George', 'Sara', 'Sarah', 'John',\n",
       "       'Johnathan', 'Kathy', 'Eric', 'Samantha', 'Adreew', 'Andrew',\n",
       "       'David', 'Julie', 'Michael'], dtype=object)"
      ]
     },
     "execution_count": 26,
     "metadata": {},
     "output_type": "execute_result"
    }
   ],
   "source": [
    "my_data['Supervisor'].unique()"
   ]
  },
  {
   "cell_type": "markdown",
   "metadata": {},
   "source": [
    "Step 1 Done! Now let's fix the errors in the spellings/typos! "
   ]
  },
  {
   "cell_type": "code",
   "execution_count": 27,
   "metadata": {},
   "outputs": [],
   "source": [
    "#Replace the typos with the real spelling\n",
    "\n",
    "my_data['Supervisor'].replace('Jorrge','Jorge',inplace=True)\n",
    "my_data['Supervisor'].replace('Adreew','Andrew',inplace=True)"
   ]
  },
  {
   "cell_type": "code",
   "execution_count": 28,
   "metadata": {},
   "outputs": [
    {
     "data": {
      "text/plain": [
       "array(['Brian', 'Jorge', 'George', 'Sara', 'Sarah', 'John', 'Johnathan',\n",
       "       'Kathy', 'Eric', 'Samantha', 'Andrew', 'David', 'Julie', 'Michael'],\n",
       "      dtype=object)"
      ]
     },
     "execution_count": 28,
     "metadata": {},
     "output_type": "execute_result"
    }
   ],
   "source": [
    "my_data['Supervisor'].unique()"
   ]
  },
  {
   "cell_type": "markdown",
   "metadata": {},
   "source": [
    "From what I see, I feel Sara-Sarah, John-Johnathan are the same. Should we investigate?"
   ]
  },
  {
   "cell_type": "code",
   "execution_count": 29,
   "metadata": {
    "scrolled": false
   },
   "outputs": [
    {
     "name": "stdout",
     "output_type": "stream",
     "text": [
      "   Agent Supervisor   Site Client  Week  Service Time  Quality Score\n",
      "0      1       John  North      A     1         456.0       7.700000\n",
      "1      2       John  North      A     1         451.0       5.900000\n",
      "2      3       John  North      A     1         470.0       5.500000\n",
      "3      3  Johnathan  North      A     5         452.0       6.895299\n",
      "4      4       John  North      A     1         461.0       6.400000\n"
     ]
    }
   ],
   "source": [
    "query = my_data.groupby(['Agent','Supervisor'], as_index=False).first()\n",
    "print(query[(query['Supervisor'] == 'John') | (query['Supervisor'] == 'Johnathan')])"
   ]
  },
  {
   "cell_type": "code",
   "execution_count": 30,
   "metadata": {},
   "outputs": [
    {
     "name": "stdout",
     "output_type": "stream",
     "text": [
      "    Agent Supervisor  Site Client  Week  Service Time  Quality Score\n",
      "21     21       Sara  East      B     4         403.0       8.200000\n",
      "22     21      Sarah  East      B     1         410.0       5.700000\n",
      "23     22      Sarah  East      B     1         402.0       5.300000\n",
      "24     23      Sarah  East      B     1         413.0       6.895299\n",
      "25     24      Sarah  East      B     1         412.0       6.500000\n"
     ]
    }
   ],
   "source": [
    "print(query[(query['Supervisor'] == 'Sara') | (query['Supervisor'] == 'Sarah')])"
   ]
  },
  {
   "cell_type": "markdown",
   "metadata": {},
   "source": [
    "SEE! You can see agent 3 being shared between John and Johnathan, which means they're the same person. Similarly for agent 21 where Sarah and Sara, both are the supervisors. Hence, we can replace them with John and Sarah."
   ]
  },
  {
   "cell_type": "code",
   "execution_count": 31,
   "metadata": {},
   "outputs": [
    {
     "data": {
      "text/plain": [
       "array(['Brian', 'Jorge', 'George', 'Sarah', 'John', 'Kathy', 'Eric',\n",
       "       'Samantha', 'Andrew', 'David', 'Julie', 'Michael'], dtype=object)"
      ]
     },
     "execution_count": 31,
     "metadata": {},
     "output_type": "execute_result"
    }
   ],
   "source": [
    "my_data['Supervisor'].replace('Sara','Sarah',inplace=True)\n",
    "my_data['Supervisor'].replace('Johnathan','John',inplace=True)\n",
    "\n",
    "my_data['Supervisor'].unique()"
   ]
  },
  {
   "cell_type": "markdown",
   "metadata": {},
   "source": [
    "Done!\n",
    "\n",
    "**Now we should check data anomalies and outliers in our data:**\n",
    "\n",
    "1 - Quality score is out of a 10-point scale. Anything out of that would be considered incorrect.\n",
    "\n",
    "2 - Service time should be reasonably realistic. It should not be very extreme.\n",
    "\n",
    "3- For the categorical variables, we've already seen the unique values and nothing seems to be out of the ordinary."
   ]
  },
  {
   "cell_type": "code",
   "execution_count": 32,
   "metadata": {},
   "outputs": [
    {
     "data": {
      "text/plain": [
       "count    240.000000\n",
       "mean       6.895299\n",
       "std        1.206823\n",
       "min        4.300000\n",
       "25%        5.900000\n",
       "50%        6.900000\n",
       "75%        7.700000\n",
       "max        9.300000\n",
       "Name: Quality Score, dtype: float64"
      ]
     },
     "execution_count": 32,
     "metadata": {},
     "output_type": "execute_result"
    }
   ],
   "source": [
    "my_data['Quality Score'].describe()"
   ]
  },
  {
   "cell_type": "markdown",
   "metadata": {},
   "source": [
    "We can see that the maximum and minimum of the Quality Score lie between 0-10. So we're good so far!"
   ]
  },
  {
   "cell_type": "code",
   "execution_count": 33,
   "metadata": {},
   "outputs": [
    {
     "data": {
      "text/plain": [
       "count    240.000000\n",
       "mean     475.125541\n",
       "std       39.497967\n",
       "min      402.000000\n",
       "25%      451.000000\n",
       "50%      475.125541\n",
       "75%      511.000000\n",
       "max      550.000000\n",
       "Name: Service Time, dtype: float64"
      ]
     },
     "execution_count": 33,
     "metadata": {},
     "output_type": "execute_result"
    }
   ],
   "source": [
    "my_data['Service Time'].describe()"
   ]
  },
  {
   "cell_type": "markdown",
   "metadata": {},
   "source": [
    "This looks reasonable as well. No apparent extreme values.\n",
    "\n",
    "Next, let me create a feature which tells me the Service Time in minutes, for my own convenience."
   ]
  },
  {
   "cell_type": "code",
   "execution_count": 34,
   "metadata": {},
   "outputs": [],
   "source": [
    "my_data['Service Time in Mins'] = my_data['Service Time'] / 60     #60 seconds = 1 min"
   ]
  },
  {
   "cell_type": "code",
   "execution_count": 35,
   "metadata": {},
   "outputs": [
    {
     "data": {
      "text/html": [
       "<div>\n",
       "<style scoped>\n",
       "    .dataframe tbody tr th:only-of-type {\n",
       "        vertical-align: middle;\n",
       "    }\n",
       "\n",
       "    .dataframe tbody tr th {\n",
       "        vertical-align: top;\n",
       "    }\n",
       "\n",
       "    .dataframe thead th {\n",
       "        text-align: right;\n",
       "    }\n",
       "</style>\n",
       "<table border=\"1\" class=\"dataframe\">\n",
       "  <thead>\n",
       "    <tr style=\"text-align: right;\">\n",
       "      <th></th>\n",
       "      <th>Site</th>\n",
       "      <th>Client</th>\n",
       "      <th>Supervisor</th>\n",
       "      <th>Agent</th>\n",
       "      <th>Week</th>\n",
       "      <th>Service Time</th>\n",
       "      <th>Quality Score</th>\n",
       "      <th>Service Time in Mins</th>\n",
       "    </tr>\n",
       "  </thead>\n",
       "  <tbody>\n",
       "    <tr>\n",
       "      <th>0</th>\n",
       "      <td>East</td>\n",
       "      <td>A</td>\n",
       "      <td>Brian</td>\n",
       "      <td>41</td>\n",
       "      <td>1</td>\n",
       "      <td>509.000000</td>\n",
       "      <td>6.500000</td>\n",
       "      <td>8.483333</td>\n",
       "    </tr>\n",
       "    <tr>\n",
       "      <th>1</th>\n",
       "      <td>East</td>\n",
       "      <td>A</td>\n",
       "      <td>Brian</td>\n",
       "      <td>41</td>\n",
       "      <td>2</td>\n",
       "      <td>505.000000</td>\n",
       "      <td>6.900000</td>\n",
       "      <td>8.416667</td>\n",
       "    </tr>\n",
       "    <tr>\n",
       "      <th>2</th>\n",
       "      <td>East</td>\n",
       "      <td>A</td>\n",
       "      <td>Brian</td>\n",
       "      <td>41</td>\n",
       "      <td>3</td>\n",
       "      <td>475.125541</td>\n",
       "      <td>5.900000</td>\n",
       "      <td>7.918759</td>\n",
       "    </tr>\n",
       "    <tr>\n",
       "      <th>3</th>\n",
       "      <td>East</td>\n",
       "      <td>A</td>\n",
       "      <td>Brian</td>\n",
       "      <td>41</td>\n",
       "      <td>4</td>\n",
       "      <td>505.000000</td>\n",
       "      <td>7.100000</td>\n",
       "      <td>8.416667</td>\n",
       "    </tr>\n",
       "    <tr>\n",
       "      <th>4</th>\n",
       "      <td>East</td>\n",
       "      <td>A</td>\n",
       "      <td>Brian</td>\n",
       "      <td>41</td>\n",
       "      <td>5</td>\n",
       "      <td>511.000000</td>\n",
       "      <td>9.100000</td>\n",
       "      <td>8.516667</td>\n",
       "    </tr>\n",
       "    <tr>\n",
       "      <th>5</th>\n",
       "      <td>East</td>\n",
       "      <td>A</td>\n",
       "      <td>Brian</td>\n",
       "      <td>42</td>\n",
       "      <td>1</td>\n",
       "      <td>511.000000</td>\n",
       "      <td>6.800000</td>\n",
       "      <td>8.516667</td>\n",
       "    </tr>\n",
       "    <tr>\n",
       "      <th>6</th>\n",
       "      <td>East</td>\n",
       "      <td>A</td>\n",
       "      <td>Brian</td>\n",
       "      <td>42</td>\n",
       "      <td>2</td>\n",
       "      <td>517.000000</td>\n",
       "      <td>7.300000</td>\n",
       "      <td>8.616667</td>\n",
       "    </tr>\n",
       "    <tr>\n",
       "      <th>7</th>\n",
       "      <td>East</td>\n",
       "      <td>A</td>\n",
       "      <td>Brian</td>\n",
       "      <td>42</td>\n",
       "      <td>3</td>\n",
       "      <td>514.000000</td>\n",
       "      <td>8.500000</td>\n",
       "      <td>8.566667</td>\n",
       "    </tr>\n",
       "    <tr>\n",
       "      <th>8</th>\n",
       "      <td>East</td>\n",
       "      <td>A</td>\n",
       "      <td>Brian</td>\n",
       "      <td>42</td>\n",
       "      <td>4</td>\n",
       "      <td>512.000000</td>\n",
       "      <td>6.895299</td>\n",
       "      <td>8.533333</td>\n",
       "    </tr>\n",
       "    <tr>\n",
       "      <th>9</th>\n",
       "      <td>East</td>\n",
       "      <td>A</td>\n",
       "      <td>Brian</td>\n",
       "      <td>42</td>\n",
       "      <td>5</td>\n",
       "      <td>516.000000</td>\n",
       "      <td>8.500000</td>\n",
       "      <td>8.600000</td>\n",
       "    </tr>\n",
       "  </tbody>\n",
       "</table>\n",
       "</div>"
      ],
      "text/plain": [
       "   Site Client Supervisor  Agent  Week  Service Time  Quality Score  \\\n",
       "0  East      A      Brian     41     1    509.000000       6.500000   \n",
       "1  East      A      Brian     41     2    505.000000       6.900000   \n",
       "2  East      A      Brian     41     3    475.125541       5.900000   \n",
       "3  East      A      Brian     41     4    505.000000       7.100000   \n",
       "4  East      A      Brian     41     5    511.000000       9.100000   \n",
       "5  East      A      Brian     42     1    511.000000       6.800000   \n",
       "6  East      A      Brian     42     2    517.000000       7.300000   \n",
       "7  East      A      Brian     42     3    514.000000       8.500000   \n",
       "8  East      A      Brian     42     4    512.000000       6.895299   \n",
       "9  East      A      Brian     42     5    516.000000       8.500000   \n",
       "\n",
       "   Service Time in Mins  \n",
       "0              8.483333  \n",
       "1              8.416667  \n",
       "2              7.918759  \n",
       "3              8.416667  \n",
       "4              8.516667  \n",
       "5              8.516667  \n",
       "6              8.616667  \n",
       "7              8.566667  \n",
       "8              8.533333  \n",
       "9              8.600000  "
      ]
     },
     "execution_count": 35,
     "metadata": {},
     "output_type": "execute_result"
    }
   ],
   "source": [
    "my_data.head(10)"
   ]
  },
  {
   "cell_type": "markdown",
   "metadata": {},
   "source": [
    "Everything looks nice! I think we can take the next step and do some exploratory data anlaysis. This will help us derive important insights and help us ask probing questions!"
   ]
  },
  {
   "cell_type": "markdown",
   "metadata": {},
   "source": [
    "# Exploratory Data Analysis"
   ]
  },
  {
   "cell_type": "markdown",
   "metadata": {},
   "source": [
    "Let's just read into the descriptive statistics once again!"
   ]
  },
  {
   "cell_type": "code",
   "execution_count": 36,
   "metadata": {},
   "outputs": [
    {
     "data": {
      "text/html": [
       "<div>\n",
       "<style scoped>\n",
       "    .dataframe tbody tr th:only-of-type {\n",
       "        vertical-align: middle;\n",
       "    }\n",
       "\n",
       "    .dataframe tbody tr th {\n",
       "        vertical-align: top;\n",
       "    }\n",
       "\n",
       "    .dataframe thead th {\n",
       "        text-align: right;\n",
       "    }\n",
       "</style>\n",
       "<table border=\"1\" class=\"dataframe\">\n",
       "  <thead>\n",
       "    <tr style=\"text-align: right;\">\n",
       "      <th></th>\n",
       "      <th>Agent</th>\n",
       "      <th>Week</th>\n",
       "      <th>Service Time</th>\n",
       "      <th>Quality Score</th>\n",
       "      <th>Service Time in Mins</th>\n",
       "    </tr>\n",
       "  </thead>\n",
       "  <tbody>\n",
       "    <tr>\n",
       "      <th>count</th>\n",
       "      <td>240.000000</td>\n",
       "      <td>240.000000</td>\n",
       "      <td>240.000000</td>\n",
       "      <td>240.000000</td>\n",
       "      <td>240.000000</td>\n",
       "    </tr>\n",
       "    <tr>\n",
       "      <th>mean</th>\n",
       "      <td>24.500000</td>\n",
       "      <td>3.000000</td>\n",
       "      <td>475.125541</td>\n",
       "      <td>6.895299</td>\n",
       "      <td>7.918759</td>\n",
       "    </tr>\n",
       "    <tr>\n",
       "      <th>std</th>\n",
       "      <td>13.882351</td>\n",
       "      <td>1.417169</td>\n",
       "      <td>39.497967</td>\n",
       "      <td>1.206823</td>\n",
       "      <td>0.658299</td>\n",
       "    </tr>\n",
       "    <tr>\n",
       "      <th>min</th>\n",
       "      <td>1.000000</td>\n",
       "      <td>1.000000</td>\n",
       "      <td>402.000000</td>\n",
       "      <td>4.300000</td>\n",
       "      <td>6.700000</td>\n",
       "    </tr>\n",
       "    <tr>\n",
       "      <th>25%</th>\n",
       "      <td>12.750000</td>\n",
       "      <td>2.000000</td>\n",
       "      <td>451.000000</td>\n",
       "      <td>5.900000</td>\n",
       "      <td>7.516667</td>\n",
       "    </tr>\n",
       "    <tr>\n",
       "      <th>50%</th>\n",
       "      <td>24.500000</td>\n",
       "      <td>3.000000</td>\n",
       "      <td>475.125541</td>\n",
       "      <td>6.900000</td>\n",
       "      <td>7.918759</td>\n",
       "    </tr>\n",
       "    <tr>\n",
       "      <th>75%</th>\n",
       "      <td>36.250000</td>\n",
       "      <td>4.000000</td>\n",
       "      <td>511.000000</td>\n",
       "      <td>7.700000</td>\n",
       "      <td>8.516667</td>\n",
       "    </tr>\n",
       "    <tr>\n",
       "      <th>max</th>\n",
       "      <td>48.000000</td>\n",
       "      <td>5.000000</td>\n",
       "      <td>550.000000</td>\n",
       "      <td>9.300000</td>\n",
       "      <td>9.166667</td>\n",
       "    </tr>\n",
       "  </tbody>\n",
       "</table>\n",
       "</div>"
      ],
      "text/plain": [
       "            Agent        Week  Service Time  Quality Score  \\\n",
       "count  240.000000  240.000000    240.000000     240.000000   \n",
       "mean    24.500000    3.000000    475.125541       6.895299   \n",
       "std     13.882351    1.417169     39.497967       1.206823   \n",
       "min      1.000000    1.000000    402.000000       4.300000   \n",
       "25%     12.750000    2.000000    451.000000       5.900000   \n",
       "50%     24.500000    3.000000    475.125541       6.900000   \n",
       "75%     36.250000    4.000000    511.000000       7.700000   \n",
       "max     48.000000    5.000000    550.000000       9.300000   \n",
       "\n",
       "       Service Time in Mins  \n",
       "count            240.000000  \n",
       "mean               7.918759  \n",
       "std                0.658299  \n",
       "min                6.700000  \n",
       "25%                7.516667  \n",
       "50%                7.918759  \n",
       "75%                8.516667  \n",
       "max                9.166667  "
      ]
     },
     "execution_count": 36,
     "metadata": {},
     "output_type": "execute_result"
    }
   ],
   "source": [
    "my_data.describe()"
   ]
  },
  {
   "cell_type": "code",
   "execution_count": 37,
   "metadata": {},
   "outputs": [
    {
     "data": {
      "text/html": [
       "<div>\n",
       "<style scoped>\n",
       "    .dataframe tbody tr th:only-of-type {\n",
       "        vertical-align: middle;\n",
       "    }\n",
       "\n",
       "    .dataframe tbody tr th {\n",
       "        vertical-align: top;\n",
       "    }\n",
       "\n",
       "    .dataframe thead th {\n",
       "        text-align: right;\n",
       "    }\n",
       "</style>\n",
       "<table border=\"1\" class=\"dataframe\">\n",
       "  <thead>\n",
       "    <tr style=\"text-align: right;\">\n",
       "      <th></th>\n",
       "      <th>Site</th>\n",
       "      <th>Client</th>\n",
       "      <th>Supervisor</th>\n",
       "    </tr>\n",
       "  </thead>\n",
       "  <tbody>\n",
       "    <tr>\n",
       "      <th>count</th>\n",
       "      <td>240</td>\n",
       "      <td>240</td>\n",
       "      <td>240</td>\n",
       "    </tr>\n",
       "    <tr>\n",
       "      <th>unique</th>\n",
       "      <td>3</td>\n",
       "      <td>2</td>\n",
       "      <td>12</td>\n",
       "    </tr>\n",
       "    <tr>\n",
       "      <th>top</th>\n",
       "      <td>East</td>\n",
       "      <td>B</td>\n",
       "      <td>David</td>\n",
       "    </tr>\n",
       "    <tr>\n",
       "      <th>freq</th>\n",
       "      <td>80</td>\n",
       "      <td>120</td>\n",
       "      <td>20</td>\n",
       "    </tr>\n",
       "  </tbody>\n",
       "</table>\n",
       "</div>"
      ],
      "text/plain": [
       "        Site Client Supervisor\n",
       "count    240    240        240\n",
       "unique     3      2         12\n",
       "top     East      B      David\n",
       "freq      80    120         20"
      ]
     },
     "execution_count": 37,
     "metadata": {},
     "output_type": "execute_result"
    }
   ],
   "source": [
    "my_data.describe(include=['O'])"
   ]
  },
  {
   "cell_type": "markdown",
   "metadata": {},
   "source": [
    "Well, we know that the mean of the quality score is roughly 7 and the mean of the service time is roughly 475. Now, Let's start with drawing out a heatmap to see correlations between the features."
   ]
  },
  {
   "cell_type": "code",
   "execution_count": 38,
   "metadata": {
    "scrolled": false
   },
   "outputs": [
    {
     "data": {
      "text/html": [
       "<div>\n",
       "<style scoped>\n",
       "    .dataframe tbody tr th:only-of-type {\n",
       "        vertical-align: middle;\n",
       "    }\n",
       "\n",
       "    .dataframe tbody tr th {\n",
       "        vertical-align: top;\n",
       "    }\n",
       "\n",
       "    .dataframe thead th {\n",
       "        text-align: right;\n",
       "    }\n",
       "</style>\n",
       "<table border=\"1\" class=\"dataframe\">\n",
       "  <thead>\n",
       "    <tr style=\"text-align: right;\">\n",
       "      <th></th>\n",
       "      <th>Agent</th>\n",
       "      <th>Week</th>\n",
       "      <th>Service Time</th>\n",
       "      <th>Quality Score</th>\n",
       "      <th>Service Time in Mins</th>\n",
       "    </tr>\n",
       "  </thead>\n",
       "  <tbody>\n",
       "    <tr>\n",
       "      <th>Agent</th>\n",
       "      <td>1.000000</td>\n",
       "      <td>0.000000</td>\n",
       "      <td>-0.043929</td>\n",
       "      <td>-0.078631</td>\n",
       "      <td>-0.043929</td>\n",
       "    </tr>\n",
       "    <tr>\n",
       "      <th>Week</th>\n",
       "      <td>0.000000</td>\n",
       "      <td>1.000000</td>\n",
       "      <td>-0.003906</td>\n",
       "      <td>0.538174</td>\n",
       "      <td>-0.003906</td>\n",
       "    </tr>\n",
       "    <tr>\n",
       "      <th>Service Time</th>\n",
       "      <td>-0.043929</td>\n",
       "      <td>-0.003906</td>\n",
       "      <td>1.000000</td>\n",
       "      <td>-0.010602</td>\n",
       "      <td>1.000000</td>\n",
       "    </tr>\n",
       "    <tr>\n",
       "      <th>Quality Score</th>\n",
       "      <td>-0.078631</td>\n",
       "      <td>0.538174</td>\n",
       "      <td>-0.010602</td>\n",
       "      <td>1.000000</td>\n",
       "      <td>-0.010602</td>\n",
       "    </tr>\n",
       "    <tr>\n",
       "      <th>Service Time in Mins</th>\n",
       "      <td>-0.043929</td>\n",
       "      <td>-0.003906</td>\n",
       "      <td>1.000000</td>\n",
       "      <td>-0.010602</td>\n",
       "      <td>1.000000</td>\n",
       "    </tr>\n",
       "  </tbody>\n",
       "</table>\n",
       "</div>"
      ],
      "text/plain": [
       "                         Agent      Week  Service Time  Quality Score  \\\n",
       "Agent                 1.000000  0.000000     -0.043929      -0.078631   \n",
       "Week                  0.000000  1.000000     -0.003906       0.538174   \n",
       "Service Time         -0.043929 -0.003906      1.000000      -0.010602   \n",
       "Quality Score        -0.078631  0.538174     -0.010602       1.000000   \n",
       "Service Time in Mins -0.043929 -0.003906      1.000000      -0.010602   \n",
       "\n",
       "                      Service Time in Mins  \n",
       "Agent                            -0.043929  \n",
       "Week                             -0.003906  \n",
       "Service Time                      1.000000  \n",
       "Quality Score                    -0.010602  \n",
       "Service Time in Mins              1.000000  "
      ]
     },
     "execution_count": 38,
     "metadata": {},
     "output_type": "execute_result"
    },
    {
     "data": {
      "image/png": "[encoded data removed]",
      "text/plain": [
       "<Figure size 1440x720 with 2 Axes>"
      ]
     },
     "metadata": {
      "needs_background": "light"
     },
     "output_type": "display_data"
    }
   ],
   "source": [
    "#Code for drawing a heatmap using seaborn\n",
    "plt.figure(figsize=(20,10))\n",
    "heat_map= my_data.corr()\n",
    "sns.heatmap(heat_map,annot=True)\n",
    "heat_map"
   ]
  },
  {
   "cell_type": "markdown",
   "metadata": {},
   "source": [
    "Well, out of the quantitave variables, we can see that there's a good strong correlation between the week and the quality score! We will investigate this soon."
   ]
  },
  {
   "cell_type": "markdown",
   "metadata": {},
   "source": [
    "## Relationships of features with Quality Score!"
   ]
  },
  {
   "cell_type": "markdown",
   "metadata": {},
   "source": [
    "Let us explore and find out if there's anything that we find here! Then, we can find out the things we could focus on to get us an improvement."
   ]
  },
  {
   "cell_type": "code",
   "execution_count": 39,
   "metadata": {
    "scrolled": true
   },
   "outputs": [
    {
     "data": {
      "text/html": [
       "<div>\n",
       "<style scoped>\n",
       "    .dataframe tbody tr th:only-of-type {\n",
       "        vertical-align: middle;\n",
       "    }\n",
       "\n",
       "    .dataframe tbody tr th {\n",
       "        vertical-align: top;\n",
       "    }\n",
       "\n",
       "    .dataframe thead th {\n",
       "        text-align: right;\n",
       "    }\n",
       "</style>\n",
       "<table border=\"1\" class=\"dataframe\">\n",
       "  <thead>\n",
       "    <tr style=\"text-align: right;\">\n",
       "      <th></th>\n",
       "      <th>Site</th>\n",
       "      <th>Quality Score</th>\n",
       "    </tr>\n",
       "  </thead>\n",
       "  <tbody>\n",
       "    <tr>\n",
       "      <th>1</th>\n",
       "      <td>North</td>\n",
       "      <td>7.037382</td>\n",
       "    </tr>\n",
       "    <tr>\n",
       "      <th>0</th>\n",
       "      <td>East</td>\n",
       "      <td>6.933632</td>\n",
       "    </tr>\n",
       "    <tr>\n",
       "      <th>2</th>\n",
       "      <td>South</td>\n",
       "      <td>6.714882</td>\n",
       "    </tr>\n",
       "  </tbody>\n",
       "</table>\n",
       "</div>"
      ],
      "text/plain": [
       "    Site  Quality Score\n",
       "1  North       7.037382\n",
       "0   East       6.933632\n",
       "2  South       6.714882"
      ]
     },
     "execution_count": 39,
     "metadata": {},
     "output_type": "execute_result"
    }
   ],
   "source": [
    "#Grouping Average Quality Score by Site\n",
    "\n",
    "Site_QS = my_data[[\"Site\", \"Quality Score\"]].groupby(['Site'], as_index=False).mean().sort_values(by='Quality Score', ascending=False)\n",
    "Site_QS"
   ]
  },
  {
   "cell_type": "code",
   "execution_count": 40,
   "metadata": {},
   "outputs": [
    {
     "data": {
      "image/png": "[encoded data removed]",
      "text/plain": [
       "<Figure size 432x288 with 1 Axes>"
      ]
     },
     "metadata": {},
     "output_type": "display_data"
    }
   ],
   "source": [
    "#Visualizing boxplots the above table\n",
    "sns.set(style=\"whitegrid\")\n",
    "ax = sns.boxplot(x=\"Site\", y=\"Quality Score\", data=my_data)"
   ]
  },
  {
   "cell_type": "code",
   "execution_count": 41,
   "metadata": {},
   "outputs": [
    {
     "data": {
      "image/png": "[encoded data removed]",
      "text/plain": [
       "<Figure size 432x288 with 1 Axes>"
      ]
     },
     "metadata": {},
     "output_type": "display_data"
    }
   ],
   "source": [
    "#Barplots for the above table\n",
    "sns.set(style=\"whitegrid\")\n",
    "ax = sns.barplot(x=\"Site\", y=\"Quality Score\", data=Site_QS)"
   ]
  },
  {
   "cell_type": "markdown",
   "metadata": {},
   "source": [
    "Well, this does not tell us much except for the fact that average quality score for South is a little less than the other sites. So we can proceed with the other features!"
   ]
  },
  {
   "cell_type": "code",
   "execution_count": 42,
   "metadata": {
    "scrolled": false
   },
   "outputs": [
    {
     "data": {
      "text/html": [
       "<div>\n",
       "<style scoped>\n",
       "    .dataframe tbody tr th:only-of-type {\n",
       "        vertical-align: middle;\n",
       "    }\n",
       "\n",
       "    .dataframe tbody tr th {\n",
       "        vertical-align: top;\n",
       "    }\n",
       "\n",
       "    .dataframe thead th {\n",
       "        text-align: right;\n",
       "    }\n",
       "</style>\n",
       "<table border=\"1\" class=\"dataframe\">\n",
       "  <thead>\n",
       "    <tr style=\"text-align: right;\">\n",
       "      <th></th>\n",
       "      <th>Client</th>\n",
       "      <th>Quality Score</th>\n",
       "    </tr>\n",
       "  </thead>\n",
       "  <tbody>\n",
       "    <tr>\n",
       "      <th>0</th>\n",
       "      <td>A</td>\n",
       "      <td>7.404922</td>\n",
       "    </tr>\n",
       "    <tr>\n",
       "      <th>1</th>\n",
       "      <td>B</td>\n",
       "      <td>6.385677</td>\n",
       "    </tr>\n",
       "  </tbody>\n",
       "</table>\n",
       "</div>"
      ],
      "text/plain": [
       "  Client  Quality Score\n",
       "0      A       7.404922\n",
       "1      B       6.385677"
      ]
     },
     "execution_count": 42,
     "metadata": {},
     "output_type": "execute_result"
    }
   ],
   "source": [
    "#Grouping Average Quality Score by Client\n",
    "\n",
    "Client_QS = my_data[[\"Client\", \"Quality Score\"]].groupby(['Client'], as_index=False).mean()\n",
    "Client_QS"
   ]
  },
  {
   "cell_type": "code",
   "execution_count": 43,
   "metadata": {},
   "outputs": [
    {
     "data": {
      "image/png": "[encoded data removed]",
      "text/plain": [
       "<Figure size 432x288 with 1 Axes>"
      ]
     },
     "metadata": {},
     "output_type": "display_data"
    }
   ],
   "source": [
    "#Boxplots for the above table\n",
    "sns.set(style=\"whitegrid\")\n",
    "ax = sns.boxplot(x=\"Client\", y=\"Quality Score\", data=my_data)"
   ]
  },
  {
   "cell_type": "code",
   "execution_count": 44,
   "metadata": {
    "scrolled": true
   },
   "outputs": [
    {
     "data": {
      "image/png": "[encoded data removed]",
      "text/plain": [
       "<Figure size 432x288 with 1 Axes>"
      ]
     },
     "metadata": {},
     "output_type": "display_data"
    }
   ],
   "source": [
    "#Barplots for the above table\n",
    "\n",
    "sns.set(style=\"whitegrid\")\n",
    "ax = sns.barplot(x=\"Client\", y=\"Quality Score\", data=Client_QS)"
   ]
  },
  {
   "cell_type": "markdown",
   "metadata": {},
   "source": [
    "Well, the Quality Score for client B is much lower than A. Let us have a look at the supervisors that handle these respective clients."
   ]
  },
  {
   "cell_type": "code",
   "execution_count": 45,
   "metadata": {
    "scrolled": false
   },
   "outputs": [
    {
     "data": {
      "text/html": [
       "<div>\n",
       "<style scoped>\n",
       "    .dataframe tbody tr th:only-of-type {\n",
       "        vertical-align: middle;\n",
       "    }\n",
       "\n",
       "    .dataframe tbody tr th {\n",
       "        vertical-align: top;\n",
       "    }\n",
       "\n",
       "    .dataframe thead th {\n",
       "        text-align: right;\n",
       "    }\n",
       "</style>\n",
       "<table border=\"1\" class=\"dataframe\">\n",
       "  <thead>\n",
       "    <tr style=\"text-align: right;\">\n",
       "      <th></th>\n",
       "      <th></th>\n",
       "      <th>Quality Score</th>\n",
       "    </tr>\n",
       "    <tr>\n",
       "      <th>Client</th>\n",
       "      <th>Supervisor</th>\n",
       "      <th></th>\n",
       "    </tr>\n",
       "  </thead>\n",
       "  <tbody>\n",
       "    <tr>\n",
       "      <th rowspan=\"6\" valign=\"top\">A</th>\n",
       "      <th>Kathy</th>\n",
       "      <td>7.750000</td>\n",
       "    </tr>\n",
       "    <tr>\n",
       "      <th>John</th>\n",
       "      <td>7.609765</td>\n",
       "    </tr>\n",
       "    <tr>\n",
       "      <th>Andrew</th>\n",
       "      <td>7.415000</td>\n",
       "    </tr>\n",
       "    <tr>\n",
       "      <th>David</th>\n",
       "      <td>7.385000</td>\n",
       "    </tr>\n",
       "    <tr>\n",
       "      <th>Brian</th>\n",
       "      <td>7.144765</td>\n",
       "    </tr>\n",
       "    <tr>\n",
       "      <th>Jorge</th>\n",
       "      <td>7.125000</td>\n",
       "    </tr>\n",
       "    <tr>\n",
       "      <th rowspan=\"6\" valign=\"top\">B</th>\n",
       "      <th>Sarah</th>\n",
       "      <td>6.754765</td>\n",
       "    </tr>\n",
       "    <tr>\n",
       "      <th>George</th>\n",
       "      <td>6.710000</td>\n",
       "    </tr>\n",
       "    <tr>\n",
       "      <th>Samantha</th>\n",
       "      <td>6.434765</td>\n",
       "    </tr>\n",
       "    <tr>\n",
       "      <th>Eric</th>\n",
       "      <td>6.355000</td>\n",
       "    </tr>\n",
       "    <tr>\n",
       "      <th>Julie</th>\n",
       "      <td>6.045000</td>\n",
       "    </tr>\n",
       "    <tr>\n",
       "      <th>Michael</th>\n",
       "      <td>6.014530</td>\n",
       "    </tr>\n",
       "  </tbody>\n",
       "</table>\n",
       "</div>"
      ],
      "text/plain": [
       "                   Quality Score\n",
       "Client Supervisor               \n",
       "A      Kathy            7.750000\n",
       "       John             7.609765\n",
       "       Andrew           7.415000\n",
       "       David            7.385000\n",
       "       Brian            7.144765\n",
       "       Jorge            7.125000\n",
       "B      Sarah            6.754765\n",
       "       George           6.710000\n",
       "       Samantha         6.434765\n",
       "       Eric             6.355000\n",
       "       Julie            6.045000\n",
       "       Michael          6.014530"
      ]
     },
     "execution_count": 45,
     "metadata": {},
     "output_type": "execute_result"
    }
   ],
   "source": [
    "#Grouping Quality Score by Client then Supervisor.\n",
    "\n",
    "Client_Supervisor_QS = my_data[['Client',\"Supervisor\", \"Quality Score\"]].groupby(['Client','Supervisor'], as_index=True).mean().sort_values(by='Quality Score', ascending=False)\n",
    "Client_Supervisor_QS"
   ]
  },
  {
   "cell_type": "code",
   "execution_count": 46,
   "metadata": {},
   "outputs": [
    {
     "data": {
      "image/png": "[encoded data removed]",
      "text/plain": [
       "<Figure size 1440x720 with 1 Axes>"
      ]
     },
     "metadata": {},
     "output_type": "display_data"
    }
   ],
   "source": [
    "#Boxplots for the above table\n",
    "\n",
    "plt.figure(figsize=(20,10))\n",
    "sns.set(style=\"whitegrid\")\n",
    "ax = sns.boxplot(x=\"Supervisor\", y=\"Quality Score\",hue='Client', data=my_data)"
   ]
  },
  {
   "cell_type": "code",
   "execution_count": 47,
   "metadata": {
    "scrolled": false
   },
   "outputs": [
    {
     "data": {
      "image/png": "[encoded data removed]",
      "text/plain": [
       "<Figure size 1440x720 with 1 Axes>"
      ]
     },
     "metadata": {},
     "output_type": "display_data"
    }
   ],
   "source": [
    "#Scatterplot for the above table with hue as client.\n",
    "\n",
    "plt.figure(figsize=(20,10))\n",
    "sns.set(style=\"whitegrid\")\n",
    "ax = sns.scatterplot(x='Supervisor', y=\"Quality Score\", hue = 'Client',data=my_data[['Client',\"Supervisor\", \"Quality Score\"]].groupby(['Client','Supervisor'], as_index=False).mean())"
   ]
  },
  {
   "cell_type": "markdown",
   "metadata": {},
   "source": [
    "Well, we should investigate why the quality scores for supervisors handling Client B are so low. Quality Score for supervisors handling Client A look considerably near the mean but for B, they're far below. This can be one point to note down! We need to sit with Michael, Julie, Eric, etc to understand what's going wrong.\n",
    "\n",
    "Now let us see the Quality Score on the agent level and figure out the ones that need to be addressed.\n"
   ]
  },
  {
   "cell_type": "code",
   "execution_count": 48,
   "metadata": {},
   "outputs": [
    {
     "data": {
      "text/html": [
       "<div>\n",
       "<style scoped>\n",
       "    .dataframe tbody tr th:only-of-type {\n",
       "        vertical-align: middle;\n",
       "    }\n",
       "\n",
       "    .dataframe tbody tr th {\n",
       "        vertical-align: top;\n",
       "    }\n",
       "\n",
       "    .dataframe thead th {\n",
       "        text-align: right;\n",
       "    }\n",
       "</style>\n",
       "<table border=\"1\" class=\"dataframe\">\n",
       "  <thead>\n",
       "    <tr style=\"text-align: right;\">\n",
       "      <th></th>\n",
       "      <th></th>\n",
       "      <th>Quality Score</th>\n",
       "    </tr>\n",
       "    <tr>\n",
       "      <th>Agent</th>\n",
       "      <th>Supervisor</th>\n",
       "      <th></th>\n",
       "    </tr>\n",
       "  </thead>\n",
       "  <tbody>\n",
       "    <tr>\n",
       "      <th>25</th>\n",
       "      <th>Kathy</th>\n",
       "      <td>8.30000</td>\n",
       "    </tr>\n",
       "    <tr>\n",
       "      <th>1</th>\n",
       "      <th>John</th>\n",
       "      <td>8.24000</td>\n",
       "    </tr>\n",
       "    <tr>\n",
       "      <th>35</th>\n",
       "      <th>David</th>\n",
       "      <td>7.98000</td>\n",
       "    </tr>\n",
       "    <tr>\n",
       "      <th>26</th>\n",
       "      <th>Kathy</th>\n",
       "      <td>7.90000</td>\n",
       "    </tr>\n",
       "    <tr>\n",
       "      <th>11</th>\n",
       "      <th>Andrew</th>\n",
       "      <td>7.88000</td>\n",
       "    </tr>\n",
       "    <tr>\n",
       "      <th>18</th>\n",
       "      <th>Jorge</th>\n",
       "      <td>7.78000</td>\n",
       "    </tr>\n",
       "    <tr>\n",
       "      <th>28</th>\n",
       "      <th>Kathy</th>\n",
       "      <td>7.72000</td>\n",
       "    </tr>\n",
       "    <tr>\n",
       "      <th>2</th>\n",
       "      <th>John</th>\n",
       "      <td>7.72000</td>\n",
       "    </tr>\n",
       "    <tr>\n",
       "      <th>4</th>\n",
       "      <th>John</th>\n",
       "      <td>7.64000</td>\n",
       "    </tr>\n",
       "    <tr>\n",
       "      <th>42</th>\n",
       "      <th>Brian</th>\n",
       "      <td>7.59906</td>\n",
       "    </tr>\n",
       "  </tbody>\n",
       "</table>\n",
       "</div>"
      ],
      "text/plain": [
       "                  Quality Score\n",
       "Agent Supervisor               \n",
       "25    Kathy             8.30000\n",
       "1     John              8.24000\n",
       "35    David             7.98000\n",
       "26    Kathy             7.90000\n",
       "11    Andrew            7.88000\n",
       "18    Jorge             7.78000\n",
       "28    Kathy             7.72000\n",
       "2     John              7.72000\n",
       "4     John              7.64000\n",
       "42    Brian             7.59906"
      ]
     },
     "execution_count": 48,
     "metadata": {},
     "output_type": "execute_result"
    }
   ],
   "source": [
    "#Grouping Quality Score by Agent then Supervisor\n",
    "\n",
    "A_G_QS = my_data[['Agent',\"Supervisor\", \"Quality Score\"]].groupby(['Agent','Supervisor'], as_index=True).mean().sort_values(by='Quality Score', ascending=False)\n",
    "A_G_QS.head(10)  #Top 10 Performers in terms of Quality Score \n"
   ]
  },
  {
   "cell_type": "code",
   "execution_count": 49,
   "metadata": {},
   "outputs": [
    {
     "data": {
      "text/html": [
       "<div>\n",
       "<style scoped>\n",
       "    .dataframe tbody tr th:only-of-type {\n",
       "        vertical-align: middle;\n",
       "    }\n",
       "\n",
       "    .dataframe tbody tr th {\n",
       "        vertical-align: top;\n",
       "    }\n",
       "\n",
       "    .dataframe thead th {\n",
       "        text-align: right;\n",
       "    }\n",
       "</style>\n",
       "<table border=\"1\" class=\"dataframe\">\n",
       "  <thead>\n",
       "    <tr style=\"text-align: right;\">\n",
       "      <th></th>\n",
       "      <th></th>\n",
       "      <th>Quality Score</th>\n",
       "    </tr>\n",
       "    <tr>\n",
       "      <th>Agent</th>\n",
       "      <th>Supervisor</th>\n",
       "      <th></th>\n",
       "    </tr>\n",
       "  </thead>\n",
       "  <tbody>\n",
       "    <tr>\n",
       "      <th>6</th>\n",
       "      <th>Samantha</th>\n",
       "      <td>6.26000</td>\n",
       "    </tr>\n",
       "    <tr>\n",
       "      <th>30</th>\n",
       "      <th>Eric</th>\n",
       "      <td>6.18000</td>\n",
       "    </tr>\n",
       "    <tr>\n",
       "      <th>13</th>\n",
       "      <th>Michael</th>\n",
       "      <td>6.17906</td>\n",
       "    </tr>\n",
       "    <tr>\n",
       "      <th>37</th>\n",
       "      <th>Julie</th>\n",
       "      <td>6.00000</td>\n",
       "    </tr>\n",
       "    <tr>\n",
       "      <th>7</th>\n",
       "      <th>Samantha</th>\n",
       "      <td>6.00000</td>\n",
       "    </tr>\n",
       "    <tr>\n",
       "      <th>38</th>\n",
       "      <th>Julie</th>\n",
       "      <td>5.96000</td>\n",
       "    </tr>\n",
       "    <tr>\n",
       "      <th>31</th>\n",
       "      <th>Eric</th>\n",
       "      <td>5.92000</td>\n",
       "    </tr>\n",
       "    <tr>\n",
       "      <th>14</th>\n",
       "      <th>Michael</th>\n",
       "      <td>5.90000</td>\n",
       "    </tr>\n",
       "    <tr>\n",
       "      <th>40</th>\n",
       "      <th>Julie</th>\n",
       "      <td>5.50000</td>\n",
       "    </tr>\n",
       "    <tr>\n",
       "      <th>16</th>\n",
       "      <th>Michael</th>\n",
       "      <td>5.42000</td>\n",
       "    </tr>\n",
       "  </tbody>\n",
       "</table>\n",
       "</div>"
      ],
      "text/plain": [
       "                  Quality Score\n",
       "Agent Supervisor               \n",
       "6     Samantha          6.26000\n",
       "30    Eric              6.18000\n",
       "13    Michael           6.17906\n",
       "37    Julie             6.00000\n",
       "7     Samantha          6.00000\n",
       "38    Julie             5.96000\n",
       "31    Eric              5.92000\n",
       "14    Michael           5.90000\n",
       "40    Julie             5.50000\n",
       "16    Michael           5.42000"
      ]
     },
     "execution_count": 49,
     "metadata": {},
     "output_type": "execute_result"
    }
   ],
   "source": [
    "A_G_QS.tail(10)  #Top 10 Underperformers in terms of Quality Score"
   ]
  },
  {
   "cell_type": "markdown",
   "metadata": {},
   "source": [
    "Well, Agent 25 and 1 are doing really well! Good job! \n",
    "\n",
    "Also, we can identify the underperformers here. We now know which agents to address and the supervisors to reach out to. This is another point to note down!\n",
    "\n",
    "Now, we had earlier come up with an observation that week and quality score are highly correlated (0.54). That is the strongest correlation that we've got. Well let us investigate."
   ]
  },
  {
   "cell_type": "code",
   "execution_count": 50,
   "metadata": {},
   "outputs": [
    {
     "data": {
      "text/html": [
       "<div>\n",
       "<style scoped>\n",
       "    .dataframe tbody tr th:only-of-type {\n",
       "        vertical-align: middle;\n",
       "    }\n",
       "\n",
       "    .dataframe tbody tr th {\n",
       "        vertical-align: top;\n",
       "    }\n",
       "\n",
       "    .dataframe thead th {\n",
       "        text-align: right;\n",
       "    }\n",
       "</style>\n",
       "<table border=\"1\" class=\"dataframe\">\n",
       "  <thead>\n",
       "    <tr style=\"text-align: right;\">\n",
       "      <th></th>\n",
       "      <th>Week</th>\n",
       "      <th>Quality Score</th>\n",
       "    </tr>\n",
       "  </thead>\n",
       "  <tbody>\n",
       "    <tr>\n",
       "      <th>0</th>\n",
       "      <td>1</td>\n",
       "      <td>6.287402</td>\n",
       "    </tr>\n",
       "    <tr>\n",
       "      <th>1</th>\n",
       "      <td>2</td>\n",
       "      <td>6.039583</td>\n",
       "    </tr>\n",
       "    <tr>\n",
       "      <th>2</th>\n",
       "      <td>3</td>\n",
       "      <td>6.808235</td>\n",
       "    </tr>\n",
       "    <tr>\n",
       "      <th>3</th>\n",
       "      <td>4</td>\n",
       "      <td>7.485221</td>\n",
       "    </tr>\n",
       "    <tr>\n",
       "      <th>4</th>\n",
       "      <td>5</td>\n",
       "      <td>7.856054</td>\n",
       "    </tr>\n",
       "  </tbody>\n",
       "</table>\n",
       "</div>"
      ],
      "text/plain": [
       "   Week  Quality Score\n",
       "0     1       6.287402\n",
       "1     2       6.039583\n",
       "2     3       6.808235\n",
       "3     4       7.485221\n",
       "4     5       7.856054"
      ]
     },
     "execution_count": 50,
     "metadata": {},
     "output_type": "execute_result"
    }
   ],
   "source": [
    "#Grouping Quality Score by Week\n",
    "\n",
    "Week_QS = my_data[[\"Week\", \"Quality Score\"]].groupby(['Week'], as_index=False).mean()\n",
    "Week_QS"
   ]
  },
  {
   "cell_type": "code",
   "execution_count": 51,
   "metadata": {},
   "outputs": [
    {
     "data": {
      "image/png": "[encoded data removed]",
      "text/plain": [
       "<Figure size 1440x720 with 1 Axes>"
      ]
     },
     "metadata": {},
     "output_type": "display_data"
    }
   ],
   "source": [
    "#Boxplots to visualize above table\n",
    "\n",
    "plt.figure(figsize=(20,10))\n",
    "sns.set(style=\"whitegrid\")\n",
    "ax = sns.boxplot(x=\"Week\", y=\"Quality Score\", data=my_data)"
   ]
  },
  {
   "cell_type": "code",
   "execution_count": 53,
   "metadata": {},
   "outputs": [
    {
     "data": {
      "image/png": "[encoded data removed]",
      "text/plain": [
       "<Figure size 360x360 with 1 Axes>"
      ]
     },
     "metadata": {},
     "output_type": "display_data"
    }
   ],
   "source": [
    "#Scatterplots to visualize trend as weeks go by\n",
    "\n",
    "plt.figure(figsize=(5,5))\n",
    "sns.set(style=\"whitegrid\")\n",
    "ax = sns.scatterplot(x='Week', y=\"Quality Score\",data = Week_QS)"
   ]
  },
  {
   "cell_type": "markdown",
   "metadata": {},
   "source": [
    "Well, we are on to something. You can see there's a postive relationship between Quality Score and Weeks. As the weeks increase, the Quality Score increases too, excluding the transition from Week 1 to Week 2. There needs to be investigation by the business in order to figure out the reason for such a trend. But what is the reason for  a decrease from Week 1 to Week 2? Let us see the Supervisors responsible for it!"
   ]
  },
  {
   "cell_type": "code",
   "execution_count": 54,
   "metadata": {},
   "outputs": [
    {
     "data": {
      "text/html": [
       "<div>\n",
       "<style scoped>\n",
       "    .dataframe tbody tr th:only-of-type {\n",
       "        vertical-align: middle;\n",
       "    }\n",
       "\n",
       "    .dataframe tbody tr th {\n",
       "        vertical-align: top;\n",
       "    }\n",
       "\n",
       "    .dataframe thead th {\n",
       "        text-align: right;\n",
       "    }\n",
       "</style>\n",
       "<table border=\"1\" class=\"dataframe\">\n",
       "  <thead>\n",
       "    <tr style=\"text-align: right;\">\n",
       "      <th></th>\n",
       "      <th>Supervisor</th>\n",
       "      <th>Week</th>\n",
       "      <th>Quality Score</th>\n",
       "    </tr>\n",
       "  </thead>\n",
       "  <tbody>\n",
       "    <tr>\n",
       "      <th>0</th>\n",
       "      <td>Andrew</td>\n",
       "      <td>1</td>\n",
       "      <td>7.150000</td>\n",
       "    </tr>\n",
       "    <tr>\n",
       "      <th>5</th>\n",
       "      <td>Brian</td>\n",
       "      <td>1</td>\n",
       "      <td>6.925000</td>\n",
       "    </tr>\n",
       "    <tr>\n",
       "      <th>10</th>\n",
       "      <td>David</td>\n",
       "      <td>1</td>\n",
       "      <td>7.175000</td>\n",
       "    </tr>\n",
       "    <tr>\n",
       "      <th>15</th>\n",
       "      <td>Eric</td>\n",
       "      <td>1</td>\n",
       "      <td>6.150000</td>\n",
       "    </tr>\n",
       "    <tr>\n",
       "      <th>20</th>\n",
       "      <td>George</td>\n",
       "      <td>1</td>\n",
       "      <td>5.575000</td>\n",
       "    </tr>\n",
       "    <tr>\n",
       "      <th>25</th>\n",
       "      <td>John</td>\n",
       "      <td>1</td>\n",
       "      <td>6.375000</td>\n",
       "    </tr>\n",
       "    <tr>\n",
       "      <th>30</th>\n",
       "      <td>Jorge</td>\n",
       "      <td>1</td>\n",
       "      <td>6.900000</td>\n",
       "    </tr>\n",
       "    <tr>\n",
       "      <th>35</th>\n",
       "      <td>Julie</td>\n",
       "      <td>1</td>\n",
       "      <td>5.300000</td>\n",
       "    </tr>\n",
       "    <tr>\n",
       "      <th>40</th>\n",
       "      <td>Kathy</td>\n",
       "      <td>1</td>\n",
       "      <td>6.400000</td>\n",
       "    </tr>\n",
       "    <tr>\n",
       "      <th>45</th>\n",
       "      <td>Michael</td>\n",
       "      <td>1</td>\n",
       "      <td>5.150000</td>\n",
       "    </tr>\n",
       "    <tr>\n",
       "      <th>50</th>\n",
       "      <td>Samantha</td>\n",
       "      <td>1</td>\n",
       "      <td>6.250000</td>\n",
       "    </tr>\n",
       "    <tr>\n",
       "      <th>55</th>\n",
       "      <td>Sarah</td>\n",
       "      <td>1</td>\n",
       "      <td>6.098825</td>\n",
       "    </tr>\n",
       "  </tbody>\n",
       "</table>\n",
       "</div>"
      ],
      "text/plain": [
       "   Supervisor  Week  Quality Score\n",
       "0      Andrew     1       7.150000\n",
       "5       Brian     1       6.925000\n",
       "10      David     1       7.175000\n",
       "15       Eric     1       6.150000\n",
       "20     George     1       5.575000\n",
       "25       John     1       6.375000\n",
       "30      Jorge     1       6.900000\n",
       "35      Julie     1       5.300000\n",
       "40      Kathy     1       6.400000\n",
       "45    Michael     1       5.150000\n",
       "50   Samantha     1       6.250000\n",
       "55      Sarah     1       6.098825"
      ]
     },
     "execution_count": 54,
     "metadata": {},
     "output_type": "execute_result"
    }
   ],
   "source": [
    "#Grouping Quality Score by Supervisor for both weeks 1 and 2 separately to see difference.\n",
    "\n",
    "Week_QS = my_data[[\"Supervisor\",'Week','Quality Score']].groupby(['Supervisor','Week'], as_index=False).mean()\n",
    "Week_QS = Week_QS[(Week_QS['Week'] == 1) | (Week_QS['Week'] == 2)]\n",
    "Week_QS[Week_QS['Week']==1]"
   ]
  },
  {
   "cell_type": "code",
   "execution_count": 55,
   "metadata": {},
   "outputs": [
    {
     "data": {
      "text/html": [
       "<div>\n",
       "<style scoped>\n",
       "    .dataframe tbody tr th:only-of-type {\n",
       "        vertical-align: middle;\n",
       "    }\n",
       "\n",
       "    .dataframe tbody tr th {\n",
       "        vertical-align: top;\n",
       "    }\n",
       "\n",
       "    .dataframe thead th {\n",
       "        text-align: right;\n",
       "    }\n",
       "</style>\n",
       "<table border=\"1\" class=\"dataframe\">\n",
       "  <thead>\n",
       "    <tr style=\"text-align: right;\">\n",
       "      <th></th>\n",
       "      <th>Supervisor</th>\n",
       "      <th>Week</th>\n",
       "      <th>Quality Score</th>\n",
       "    </tr>\n",
       "  </thead>\n",
       "  <tbody>\n",
       "    <tr>\n",
       "      <th>1</th>\n",
       "      <td>Andrew</td>\n",
       "      <td>2</td>\n",
       "      <td>5.725</td>\n",
       "    </tr>\n",
       "    <tr>\n",
       "      <th>6</th>\n",
       "      <td>Brian</td>\n",
       "      <td>2</td>\n",
       "      <td>6.550</td>\n",
       "    </tr>\n",
       "    <tr>\n",
       "      <th>11</th>\n",
       "      <td>David</td>\n",
       "      <td>2</td>\n",
       "      <td>5.600</td>\n",
       "    </tr>\n",
       "    <tr>\n",
       "      <th>16</th>\n",
       "      <td>Eric</td>\n",
       "      <td>2</td>\n",
       "      <td>5.050</td>\n",
       "    </tr>\n",
       "    <tr>\n",
       "      <th>21</th>\n",
       "      <td>George</td>\n",
       "      <td>2</td>\n",
       "      <td>5.750</td>\n",
       "    </tr>\n",
       "    <tr>\n",
       "      <th>26</th>\n",
       "      <td>John</td>\n",
       "      <td>2</td>\n",
       "      <td>7.250</td>\n",
       "    </tr>\n",
       "    <tr>\n",
       "      <th>31</th>\n",
       "      <td>Jorge</td>\n",
       "      <td>2</td>\n",
       "      <td>6.550</td>\n",
       "    </tr>\n",
       "    <tr>\n",
       "      <th>36</th>\n",
       "      <td>Julie</td>\n",
       "      <td>2</td>\n",
       "      <td>5.825</td>\n",
       "    </tr>\n",
       "    <tr>\n",
       "      <th>41</th>\n",
       "      <td>Kathy</td>\n",
       "      <td>2</td>\n",
       "      <td>7.350</td>\n",
       "    </tr>\n",
       "    <tr>\n",
       "      <th>46</th>\n",
       "      <td>Michael</td>\n",
       "      <td>2</td>\n",
       "      <td>5.825</td>\n",
       "    </tr>\n",
       "    <tr>\n",
       "      <th>51</th>\n",
       "      <td>Samantha</td>\n",
       "      <td>2</td>\n",
       "      <td>5.275</td>\n",
       "    </tr>\n",
       "    <tr>\n",
       "      <th>56</th>\n",
       "      <td>Sarah</td>\n",
       "      <td>2</td>\n",
       "      <td>5.725</td>\n",
       "    </tr>\n",
       "  </tbody>\n",
       "</table>\n",
       "</div>"
      ],
      "text/plain": [
       "   Supervisor  Week  Quality Score\n",
       "1      Andrew     2          5.725\n",
       "6       Brian     2          6.550\n",
       "11      David     2          5.600\n",
       "16       Eric     2          5.050\n",
       "21     George     2          5.750\n",
       "26       John     2          7.250\n",
       "31      Jorge     2          6.550\n",
       "36      Julie     2          5.825\n",
       "41      Kathy     2          7.350\n",
       "46    Michael     2          5.825\n",
       "51   Samantha     2          5.275\n",
       "56      Sarah     2          5.725"
      ]
     },
     "execution_count": 55,
     "metadata": {},
     "output_type": "execute_result"
    }
   ],
   "source": [
    "Week_QS[Week_QS['Week']==2]"
   ]
  },
  {
   "cell_type": "code",
   "execution_count": 57,
   "metadata": {
    "scrolled": false
   },
   "outputs": [
    {
     "data": {
      "text/plain": [
       "<seaborn.axisgrid.FacetGrid at 0x104b65590>"
      ]
     },
     "execution_count": 57,
     "metadata": {},
     "output_type": "execute_result"
    },
    {
     "data": {
      "image/png": "[encoded data removed]",
      "text/plain": [
       "<Figure size 1356.64x748.8 with 2 Axes>"
      ]
     },
     "metadata": {},
     "output_type": "display_data"
    }
   ],
   "source": [
    "#Visualizing the change in average Quality Score every week for each supervisor.\n",
    "\n",
    "grid = sns.FacetGrid(Week_QS, row='Week', size=5.2, aspect=3.6)\n",
    "grid.map(sns.barplot, 'Supervisor', 'Quality Score', alpha=.5, ci=None)\n",
    "grid.add_legend()"
   ]
  },
  {
   "cell_type": "markdown",
   "metadata": {},
   "source": [
    "There's a pattern that we can see. That for majority of the supervisors, the average Quality Score for Week 2 decreases from Week1. That is no coincidence! Need to inform the business to investigate what's going wrong during Week 2.\n",
    "\n",
    "So we're mostly done analyzing the relationships of the features with Quality Score! Now let us do some analyzing using the Service Time!\n"
   ]
  },
  {
   "cell_type": "markdown",
   "metadata": {},
   "source": [
    "## Relationships of features with Service Time!"
   ]
  },
  {
   "cell_type": "markdown",
   "metadata": {},
   "source": [
    "Let us explore and find out if there's anything that we find any important relationships here! Then, we can find out the things we could focus on to get us an improvement."
   ]
  },
  {
   "cell_type": "code",
   "execution_count": 58,
   "metadata": {
    "scrolled": true
   },
   "outputs": [
    {
     "data": {
      "text/html": [
       "<div>\n",
       "<style scoped>\n",
       "    .dataframe tbody tr th:only-of-type {\n",
       "        vertical-align: middle;\n",
       "    }\n",
       "\n",
       "    .dataframe tbody tr th {\n",
       "        vertical-align: top;\n",
       "    }\n",
       "\n",
       "    .dataframe thead th {\n",
       "        text-align: right;\n",
       "    }\n",
       "</style>\n",
       "<table border=\"1\" class=\"dataframe\">\n",
       "  <thead>\n",
       "    <tr style=\"text-align: right;\">\n",
       "      <th></th>\n",
       "      <th>Site</th>\n",
       "      <th>Service Time</th>\n",
       "    </tr>\n",
       "  </thead>\n",
       "  <tbody>\n",
       "    <tr>\n",
       "      <th>2</th>\n",
       "      <td>South</td>\n",
       "      <td>510.067208</td>\n",
       "    </tr>\n",
       "    <tr>\n",
       "      <th>0</th>\n",
       "      <td>East</td>\n",
       "      <td>460.468777</td>\n",
       "    </tr>\n",
       "    <tr>\n",
       "      <th>1</th>\n",
       "      <td>North</td>\n",
       "      <td>454.840639</td>\n",
       "    </tr>\n",
       "  </tbody>\n",
       "</table>\n",
       "</div>"
      ],
      "text/plain": [
       "    Site  Service Time\n",
       "2  South    510.067208\n",
       "0   East    460.468777\n",
       "1  North    454.840639"
      ]
     },
     "execution_count": 58,
     "metadata": {},
     "output_type": "execute_result"
    }
   ],
   "source": [
    "#Grouping avg Service Time by Site\n",
    "\n",
    "Site_ST = my_data[[\"Site\", \"Service Time\"]].groupby(['Site'], as_index=False).mean().sort_values(by='Service Time', ascending=False)\n",
    "Site_ST"
   ]
  },
  {
   "cell_type": "code",
   "execution_count": 59,
   "metadata": {},
   "outputs": [
    {
     "data": {
      "image/png": "[encoded data removed]",
      "text/plain": [
       "<Figure size 432x288 with 1 Axes>"
      ]
     },
     "metadata": {},
     "output_type": "display_data"
    }
   ],
   "source": [
    "#Boxplots for the above table\n",
    "sns.set(style=\"whitegrid\")\n",
    "ax = sns.boxplot(x=\"Site\", y=\"Service Time\",data=my_data)"
   ]
  },
  {
   "cell_type": "code",
   "execution_count": 60,
   "metadata": {},
   "outputs": [
    {
     "data": {
      "image/png": "[encoded data removed]",
      "text/plain": [
       "<Figure size 432x288 with 1 Axes>"
      ]
     },
     "metadata": {},
     "output_type": "display_data"
    }
   ],
   "source": [
    "#Barplots for the above table\n",
    "sns.set(style=\"whitegrid\")\n",
    "ax = sns.barplot(x=\"Site\", y=\"Service Time\", data=Site_ST)"
   ]
  },
  {
   "cell_type": "markdown",
   "metadata": {},
   "source": [
    "Here, we observe that the service time is much less for East and North sites, as compared to South sites. This could be put forward to the business for further investigation as to what could be the reason for higher servie time in South. Also, the range/variation for East site is too high as compared to the others. Definitely worth looking into!\n",
    "\n",
    "Now we could check the Service Time based on the clients!"
   ]
  },
  {
   "cell_type": "code",
   "execution_count": 61,
   "metadata": {
    "scrolled": false
   },
   "outputs": [
    {
     "data": {
      "text/html": [
       "<div>\n",
       "<style scoped>\n",
       "    .dataframe tbody tr th:only-of-type {\n",
       "        vertical-align: middle;\n",
       "    }\n",
       "\n",
       "    .dataframe tbody tr th {\n",
       "        vertical-align: top;\n",
       "    }\n",
       "\n",
       "    .dataframe thead th {\n",
       "        text-align: right;\n",
       "    }\n",
       "</style>\n",
       "<table border=\"1\" class=\"dataframe\">\n",
       "  <thead>\n",
       "    <tr style=\"text-align: right;\">\n",
       "      <th></th>\n",
       "      <th>Client</th>\n",
       "      <th>Service Time</th>\n",
       "    </tr>\n",
       "  </thead>\n",
       "  <tbody>\n",
       "    <tr>\n",
       "      <th>0</th>\n",
       "      <td>A</td>\n",
       "      <td>491.981277</td>\n",
       "    </tr>\n",
       "    <tr>\n",
       "      <th>1</th>\n",
       "      <td>B</td>\n",
       "      <td>458.269805</td>\n",
       "    </tr>\n",
       "  </tbody>\n",
       "</table>\n",
       "</div>"
      ],
      "text/plain": [
       "  Client  Service Time\n",
       "0      A    491.981277\n",
       "1      B    458.269805"
      ]
     },
     "execution_count": 61,
     "metadata": {},
     "output_type": "execute_result"
    }
   ],
   "source": [
    "#Group avg Service Time by Client\n",
    "\n",
    "Client_ST = my_data[['Client',\"Service Time\"]].groupby(['Client'], as_index=False).mean()\n",
    "Client_ST"
   ]
  },
  {
   "cell_type": "code",
   "execution_count": 62,
   "metadata": {},
   "outputs": [
    {
     "data": {
      "image/png": "[encoded data removed]",
      "text/plain": [
       "<Figure size 432x288 with 1 Axes>"
      ]
     },
     "metadata": {},
     "output_type": "display_data"
    }
   ],
   "source": [
    "#Boxplots to visualize above table\n",
    "sns.set(style=\"whitegrid\")\n",
    "ax = sns.boxplot(x=\"Client\", y=\"Service Time\",data=my_data)"
   ]
  },
  {
   "cell_type": "code",
   "execution_count": 63,
   "metadata": {},
   "outputs": [
    {
     "data": {
      "image/png": "[encoded data removed]",
      "text/plain": [
       "<Figure size 432x288 with 1 Axes>"
      ]
     },
     "metadata": {},
     "output_type": "display_data"
    }
   ],
   "source": [
    "#Barplots to visualize above table\n",
    "sns.set(style=\"whitegrid\")\n",
    "ax = sns.barplot(x=\"Client\", y=\"Service Time\", data=Client_ST)"
   ]
  },
  {
   "cell_type": "markdown",
   "metadata": {},
   "source": [
    "Well, Client B has a considerable lower Service Time than A. There could be reasons why that could be. Let's see how clients and sites could tell us more!"
   ]
  },
  {
   "cell_type": "code",
   "execution_count": 64,
   "metadata": {},
   "outputs": [
    {
     "data": {
      "text/html": [
       "<div>\n",
       "<style scoped>\n",
       "    .dataframe tbody tr th:only-of-type {\n",
       "        vertical-align: middle;\n",
       "    }\n",
       "\n",
       "    .dataframe tbody tr th {\n",
       "        vertical-align: top;\n",
       "    }\n",
       "\n",
       "    .dataframe thead th {\n",
       "        text-align: right;\n",
       "    }\n",
       "</style>\n",
       "<table border=\"1\" class=\"dataframe\">\n",
       "  <thead>\n",
       "    <tr style=\"text-align: right;\">\n",
       "      <th></th>\n",
       "      <th>Site</th>\n",
       "      <th>Client</th>\n",
       "      <th>Service Time</th>\n",
       "    </tr>\n",
       "  </thead>\n",
       "  <tbody>\n",
       "    <tr>\n",
       "      <th>0</th>\n",
       "      <td>East</td>\n",
       "      <td>A</td>\n",
       "      <td>510.559416</td>\n",
       "    </tr>\n",
       "    <tr>\n",
       "      <th>1</th>\n",
       "      <td>East</td>\n",
       "      <td>B</td>\n",
       "      <td>410.378139</td>\n",
       "    </tr>\n",
       "    <tr>\n",
       "      <th>2</th>\n",
       "      <td>North</td>\n",
       "      <td>A</td>\n",
       "      <td>454.428139</td>\n",
       "    </tr>\n",
       "    <tr>\n",
       "      <th>3</th>\n",
       "      <td>North</td>\n",
       "      <td>B</td>\n",
       "      <td>455.253139</td>\n",
       "    </tr>\n",
       "    <tr>\n",
       "      <th>4</th>\n",
       "      <td>South</td>\n",
       "      <td>A</td>\n",
       "      <td>510.956277</td>\n",
       "    </tr>\n",
       "    <tr>\n",
       "      <th>5</th>\n",
       "      <td>South</td>\n",
       "      <td>B</td>\n",
       "      <td>509.178139</td>\n",
       "    </tr>\n",
       "  </tbody>\n",
       "</table>\n",
       "</div>"
      ],
      "text/plain": [
       "    Site Client  Service Time\n",
       "0   East      A    510.559416\n",
       "1   East      B    410.378139\n",
       "2  North      A    454.428139\n",
       "3  North      B    455.253139\n",
       "4  South      A    510.956277\n",
       "5  South      B    509.178139"
      ]
     },
     "execution_count": 64,
     "metadata": {},
     "output_type": "execute_result"
    }
   ],
   "source": [
    "#Grouping avg Service Time by Site and then Client\n",
    "Client_ST = my_data[['Site','Client',\"Service Time\"]].groupby(['Site','Client'], as_index=False).mean()\n",
    "Client_ST"
   ]
  },
  {
   "cell_type": "code",
   "execution_count": 65,
   "metadata": {},
   "outputs": [
    {
     "data": {
      "text/html": [
       "<div>\n",
       "<style scoped>\n",
       "    .dataframe tbody tr th:only-of-type {\n",
       "        vertical-align: middle;\n",
       "    }\n",
       "\n",
       "    .dataframe tbody tr th {\n",
       "        vertical-align: top;\n",
       "    }\n",
       "\n",
       "    .dataframe thead th {\n",
       "        text-align: right;\n",
       "    }\n",
       "</style>\n",
       "<table border=\"1\" class=\"dataframe\">\n",
       "  <thead>\n",
       "    <tr style=\"text-align: right;\">\n",
       "      <th></th>\n",
       "      <th>Client</th>\n",
       "      <th>Site</th>\n",
       "      <th>Service Time</th>\n",
       "    </tr>\n",
       "  </thead>\n",
       "  <tbody>\n",
       "    <tr>\n",
       "      <th>0</th>\n",
       "      <td>A</td>\n",
       "      <td>East</td>\n",
       "      <td>510.559416</td>\n",
       "    </tr>\n",
       "    <tr>\n",
       "      <th>1</th>\n",
       "      <td>A</td>\n",
       "      <td>North</td>\n",
       "      <td>454.428139</td>\n",
       "    </tr>\n",
       "    <tr>\n",
       "      <th>2</th>\n",
       "      <td>A</td>\n",
       "      <td>South</td>\n",
       "      <td>510.956277</td>\n",
       "    </tr>\n",
       "    <tr>\n",
       "      <th>3</th>\n",
       "      <td>B</td>\n",
       "      <td>East</td>\n",
       "      <td>410.378139</td>\n",
       "    </tr>\n",
       "    <tr>\n",
       "      <th>4</th>\n",
       "      <td>B</td>\n",
       "      <td>North</td>\n",
       "      <td>455.253139</td>\n",
       "    </tr>\n",
       "    <tr>\n",
       "      <th>5</th>\n",
       "      <td>B</td>\n",
       "      <td>South</td>\n",
       "      <td>509.178139</td>\n",
       "    </tr>\n",
       "  </tbody>\n",
       "</table>\n",
       "</div>"
      ],
      "text/plain": [
       "  Client   Site  Service Time\n",
       "0      A   East    510.559416\n",
       "1      A  North    454.428139\n",
       "2      A  South    510.956277\n",
       "3      B   East    410.378139\n",
       "4      B  North    455.253139\n",
       "5      B  South    509.178139"
      ]
     },
     "execution_count": 65,
     "metadata": {},
     "output_type": "execute_result"
    }
   ],
   "source": [
    "my_data[['Site','Client',\"Service Time\"]].groupby(['Client','Site'], as_index=False).mean()"
   ]
  },
  {
   "cell_type": "code",
   "execution_count": 97,
   "metadata": {},
   "outputs": [
    {
     "data": {
      "text/plain": [
       "<seaborn.axisgrid.FacetGrid at 0x104adfc10>"
      ]
     },
     "execution_count": 97,
     "metadata": {},
     "output_type": "execute_result"
    },
    {
     "data": {
      "image/png": "[encoded data removed]",
      "text/plain": [
       "<Figure size 982.24x748.8 with 2 Axes>"
      ]
     },
     "metadata": {},
     "output_type": "display_data"
    }
   ],
   "source": [
    "#Visualizing avg Service Time for each site given different clients\n",
    "\n",
    "grid = sns.FacetGrid(Client_ST, row='Client', size=5.2, aspect=2.6)\n",
    "grid.map(sns.barplot, 'Site', 'Service Time', alpha=.5, ci=None)\n",
    "grid.add_legend()"
   ]
  },
  {
   "cell_type": "markdown",
   "metadata": {},
   "source": [
    "So, one key observation is that the Service Time remains the same for Clients A and B when it comes to the North and South Sites. But when serving different clients in the East site, it differs drastically.\n",
    "\n",
    "Also, from the second table, we see that the service time changes a lot when serving customers from the same client B but different sites. Something to note down!"
   ]
  },
  {
   "cell_type": "code",
   "execution_count": 67,
   "metadata": {},
   "outputs": [
    {
     "data": {
      "text/html": [
       "<div>\n",
       "<style scoped>\n",
       "    .dataframe tbody tr th:only-of-type {\n",
       "        vertical-align: middle;\n",
       "    }\n",
       "\n",
       "    .dataframe tbody tr th {\n",
       "        vertical-align: top;\n",
       "    }\n",
       "\n",
       "    .dataframe thead th {\n",
       "        text-align: right;\n",
       "    }\n",
       "</style>\n",
       "<table border=\"1\" class=\"dataframe\">\n",
       "  <thead>\n",
       "    <tr style=\"text-align: right;\">\n",
       "      <th></th>\n",
       "      <th>Supervisor</th>\n",
       "      <th>Service Time</th>\n",
       "    </tr>\n",
       "  </thead>\n",
       "  <tbody>\n",
       "    <tr>\n",
       "      <th>0</th>\n",
       "      <td>Andrew</td>\n",
       "      <td>515.656277</td>\n",
       "    </tr>\n",
       "    <tr>\n",
       "      <th>6</th>\n",
       "      <td>Jorge</td>\n",
       "      <td>511.606277</td>\n",
       "    </tr>\n",
       "    <tr>\n",
       "      <th>7</th>\n",
       "      <td>Julie</td>\n",
       "      <td>511.200000</td>\n",
       "    </tr>\n",
       "    <tr>\n",
       "      <th>1</th>\n",
       "      <td>Brian</td>\n",
       "      <td>509.512554</td>\n",
       "    </tr>\n",
       "    <tr>\n",
       "      <th>9</th>\n",
       "      <td>Michael</td>\n",
       "      <td>507.156277</td>\n",
       "    </tr>\n",
       "    <tr>\n",
       "      <th>2</th>\n",
       "      <td>David</td>\n",
       "      <td>506.256277</td>\n",
       "    </tr>\n",
       "    <tr>\n",
       "      <th>3</th>\n",
       "      <td>Eric</td>\n",
       "      <td>455.906277</td>\n",
       "    </tr>\n",
       "    <tr>\n",
       "      <th>5</th>\n",
       "      <td>John</td>\n",
       "      <td>455.356277</td>\n",
       "    </tr>\n",
       "    <tr>\n",
       "      <th>10</th>\n",
       "      <td>Samantha</td>\n",
       "      <td>454.600000</td>\n",
       "    </tr>\n",
       "    <tr>\n",
       "      <th>8</th>\n",
       "      <td>Kathy</td>\n",
       "      <td>453.500000</td>\n",
       "    </tr>\n",
       "    <tr>\n",
       "      <th>4</th>\n",
       "      <td>George</td>\n",
       "      <td>412.256277</td>\n",
       "    </tr>\n",
       "    <tr>\n",
       "      <th>11</th>\n",
       "      <td>Sarah</td>\n",
       "      <td>408.500000</td>\n",
       "    </tr>\n",
       "  </tbody>\n",
       "</table>\n",
       "</div>"
      ],
      "text/plain": [
       "   Supervisor  Service Time\n",
       "0      Andrew    515.656277\n",
       "6       Jorge    511.606277\n",
       "7       Julie    511.200000\n",
       "1       Brian    509.512554\n",
       "9     Michael    507.156277\n",
       "2       David    506.256277\n",
       "3        Eric    455.906277\n",
       "5        John    455.356277\n",
       "10   Samantha    454.600000\n",
       "8       Kathy    453.500000\n",
       "4      George    412.256277\n",
       "11      Sarah    408.500000"
      ]
     },
     "execution_count": 67,
     "metadata": {},
     "output_type": "execute_result"
    }
   ],
   "source": [
    "#Grouping Service Time by Supervisor in decreasing order of Service Time\n",
    "\n",
    "Client_Supervisor_ST = my_data[[\"Supervisor\", \"Service Time\"]].groupby(['Supervisor'], as_index=False).mean().sort_values(by='Service Time', ascending=False)\n",
    "Client_Supervisor_ST"
   ]
  },
  {
   "cell_type": "code",
   "execution_count": 68,
   "metadata": {},
   "outputs": [
    {
     "data": {
      "image/png": "[encoded data removed]",
      "text/plain": [
       "<Figure size 720x720 with 1 Axes>"
      ]
     },
     "metadata": {},
     "output_type": "display_data"
    }
   ],
   "source": [
    "#Boxplots to show the above table\n",
    "sns.set(style=\"whitegrid\")\n",
    "plt.figure(figsize=(10,10))\n",
    "ax = sns.boxplot(x=\"Supervisor\", y=\"Service Time\",hue='Client',data=my_data)"
   ]
  },
  {
   "cell_type": "code",
   "execution_count": 69,
   "metadata": {},
   "outputs": [
    {
     "data": {
      "image/png": "[encoded data removed]",
      "text/plain": [
       "<Figure size 1440x720 with 1 Axes>"
      ]
     },
     "metadata": {},
     "output_type": "display_data"
    }
   ],
   "source": [
    "#Barplots to show the above table\n",
    "plt.figure(figsize=(20,10))\n",
    "sns.set(style=\"whitegrid\")\n",
    "ax = sns.scatterplot(x='Supervisor', y=\"Service Time\",data= Client_Supervisor_ST)"
   ]
  },
  {
   "cell_type": "markdown",
   "metadata": {},
   "source": [
    "Well, we see that agents working under say Andrew, Jorge have high service times as compared to say Sarah and Gorge. So, the business could look into these supervisors regarding why their service times are so high. Now let us see the Service Time on the agent level and figure out the ones that need to be addressed."
   ]
  },
  {
   "cell_type": "code",
   "execution_count": 70,
   "metadata": {},
   "outputs": [
    {
     "data": {
      "text/html": [
       "<div>\n",
       "<style scoped>\n",
       "    .dataframe tbody tr th:only-of-type {\n",
       "        vertical-align: middle;\n",
       "    }\n",
       "\n",
       "    .dataframe tbody tr th {\n",
       "        vertical-align: top;\n",
       "    }\n",
       "\n",
       "    .dataframe thead th {\n",
       "        text-align: right;\n",
       "    }\n",
       "</style>\n",
       "<table border=\"1\" class=\"dataframe\">\n",
       "  <thead>\n",
       "    <tr style=\"text-align: right;\">\n",
       "      <th></th>\n",
       "      <th></th>\n",
       "      <th>Service Time</th>\n",
       "    </tr>\n",
       "    <tr>\n",
       "      <th>Agent</th>\n",
       "      <th>Supervisor</th>\n",
       "      <th></th>\n",
       "    </tr>\n",
       "  </thead>\n",
       "  <tbody>\n",
       "    <tr>\n",
       "      <th>10</th>\n",
       "      <th>Andrew</th>\n",
       "      <td>544.0</td>\n",
       "    </tr>\n",
       "    <tr>\n",
       "      <th>17</th>\n",
       "      <th>Jorge</th>\n",
       "      <td>521.2</td>\n",
       "    </tr>\n",
       "    <tr>\n",
       "      <th>43</th>\n",
       "      <th>Brian</th>\n",
       "      <td>518.4</td>\n",
       "    </tr>\n",
       "    <tr>\n",
       "      <th>13</th>\n",
       "      <th>Michael</th>\n",
       "      <td>517.4</td>\n",
       "    </tr>\n",
       "    <tr>\n",
       "      <th>42</th>\n",
       "      <th>Brian</th>\n",
       "      <td>514.0</td>\n",
       "    </tr>\n",
       "    <tr>\n",
       "      <th>38</th>\n",
       "      <th>Julie</th>\n",
       "      <td>513.4</td>\n",
       "    </tr>\n",
       "    <tr>\n",
       "      <th>19</th>\n",
       "      <th>Jorge</th>\n",
       "      <td>512.8</td>\n",
       "    </tr>\n",
       "    <tr>\n",
       "      <th>40</th>\n",
       "      <th>Julie</th>\n",
       "      <td>512.4</td>\n",
       "    </tr>\n",
       "    <tr>\n",
       "      <th>9</th>\n",
       "      <th>Andrew</th>\n",
       "      <td>512.4</td>\n",
       "    </tr>\n",
       "    <tr>\n",
       "      <th>37</th>\n",
       "      <th>Julie</th>\n",
       "      <td>512.2</td>\n",
       "    </tr>\n",
       "  </tbody>\n",
       "</table>\n",
       "</div>"
      ],
      "text/plain": [
       "                  Service Time\n",
       "Agent Supervisor              \n",
       "10    Andrew             544.0\n",
       "17    Jorge              521.2\n",
       "43    Brian              518.4\n",
       "13    Michael            517.4\n",
       "42    Brian              514.0\n",
       "38    Julie              513.4\n",
       "19    Jorge              512.8\n",
       "40    Julie              512.4\n",
       "9     Andrew             512.4\n",
       "37    Julie              512.2"
      ]
     },
     "execution_count": 70,
     "metadata": {},
     "output_type": "execute_result"
    }
   ],
   "source": [
    "#Grouping avg Service Time by Agent then Supervisor in decreasing order of Service Time.\n",
    "\n",
    "A_G_ST = my_data[['Agent',\"Supervisor\", \"Service Time\"]].groupby(['Agent','Supervisor'], as_index=True).mean().sort_values(by='Service Time', ascending=False)\n",
    "A_G_ST.head(10)"
   ]
  },
  {
   "cell_type": "code",
   "execution_count": 71,
   "metadata": {},
   "outputs": [
    {
     "data": {
      "text/html": [
       "<div>\n",
       "<style scoped>\n",
       "    .dataframe tbody tr th:only-of-type {\n",
       "        vertical-align: middle;\n",
       "    }\n",
       "\n",
       "    .dataframe tbody tr th {\n",
       "        vertical-align: top;\n",
       "    }\n",
       "\n",
       "    .dataframe thead th {\n",
       "        text-align: right;\n",
       "    }\n",
       "</style>\n",
       "<table border=\"1\" class=\"dataframe\">\n",
       "  <thead>\n",
       "    <tr style=\"text-align: right;\">\n",
       "      <th></th>\n",
       "      <th></th>\n",
       "      <th>Service Time</th>\n",
       "    </tr>\n",
       "    <tr>\n",
       "      <th>Agent</th>\n",
       "      <th>Supervisor</th>\n",
       "      <th></th>\n",
       "    </tr>\n",
       "  </thead>\n",
       "  <tbody>\n",
       "    <tr>\n",
       "      <th>22</th>\n",
       "      <th>Sarah</th>\n",
       "      <td>404.200000</td>\n",
       "    </tr>\n",
       "    <tr>\n",
       "      <th>46</th>\n",
       "      <th>George</th>\n",
       "      <td>406.600000</td>\n",
       "    </tr>\n",
       "    <tr>\n",
       "      <th>21</th>\n",
       "      <th>Sarah</th>\n",
       "      <td>406.800000</td>\n",
       "    </tr>\n",
       "    <tr>\n",
       "      <th>47</th>\n",
       "      <th>George</th>\n",
       "      <td>409.600000</td>\n",
       "    </tr>\n",
       "    <tr>\n",
       "      <th>23</th>\n",
       "      <th>Sarah</th>\n",
       "      <td>411.400000</td>\n",
       "    </tr>\n",
       "    <tr>\n",
       "      <th>45</th>\n",
       "      <th>George</th>\n",
       "      <td>411.400000</td>\n",
       "    </tr>\n",
       "    <tr>\n",
       "      <th>24</th>\n",
       "      <th>Sarah</th>\n",
       "      <td>411.600000</td>\n",
       "    </tr>\n",
       "    <tr>\n",
       "      <th>48</th>\n",
       "      <th>George</th>\n",
       "      <td>421.425108</td>\n",
       "    </tr>\n",
       "    <tr>\n",
       "      <th>1</th>\n",
       "      <th>John</th>\n",
       "      <td>451.600000</td>\n",
       "    </tr>\n",
       "    <tr>\n",
       "      <th>26</th>\n",
       "      <th>Kathy</th>\n",
       "      <td>452.000000</td>\n",
       "    </tr>\n",
       "  </tbody>\n",
       "</table>\n",
       "</div>"
      ],
      "text/plain": [
       "                  Service Time\n",
       "Agent Supervisor              \n",
       "22    Sarah         404.200000\n",
       "46    George        406.600000\n",
       "21    Sarah         406.800000\n",
       "47    George        409.600000\n",
       "23    Sarah         411.400000\n",
       "45    George        411.400000\n",
       "24    Sarah         411.600000\n",
       "48    George        421.425108\n",
       "1     John          451.600000\n",
       "26    Kathy         452.000000"
      ]
     },
     "execution_count": 71,
     "metadata": {},
     "output_type": "execute_result"
    }
   ],
   "source": [
    "A_G_ST.tail(10).sort_values('Service Time')"
   ]
  },
  {
   "cell_type": "markdown",
   "metadata": {},
   "source": [
    "Well, Agents like 10 and 17 have a really high service time! Investigation needs to be done as to why!\n",
    "\n",
    "Also, we can identify the good performers here like Sarah and George here, the ones which have such low service time. We now know which agents to address and the supervisors to reach out to. This is another point to note down!\n",
    "\n",
    "Let us look into a potential relationship between week and service time."
   ]
  },
  {
   "cell_type": "code",
   "execution_count": 72,
   "metadata": {
    "scrolled": true
   },
   "outputs": [
    {
     "data": {
      "text/html": [
       "<div>\n",
       "<style scoped>\n",
       "    .dataframe tbody tr th:only-of-type {\n",
       "        vertical-align: middle;\n",
       "    }\n",
       "\n",
       "    .dataframe tbody tr th {\n",
       "        vertical-align: top;\n",
       "    }\n",
       "\n",
       "    .dataframe thead th {\n",
       "        text-align: right;\n",
       "    }\n",
       "</style>\n",
       "<table border=\"1\" class=\"dataframe\">\n",
       "  <thead>\n",
       "    <tr style=\"text-align: right;\">\n",
       "      <th></th>\n",
       "      <th>Week</th>\n",
       "      <th>Service Time</th>\n",
       "    </tr>\n",
       "  </thead>\n",
       "  <tbody>\n",
       "    <tr>\n",
       "      <th>0</th>\n",
       "      <td>1</td>\n",
       "      <td>475.026064</td>\n",
       "    </tr>\n",
       "    <tr>\n",
       "      <th>1</th>\n",
       "      <td>2</td>\n",
       "      <td>476.487013</td>\n",
       "    </tr>\n",
       "    <tr>\n",
       "      <th>2</th>\n",
       "      <td>3</td>\n",
       "      <td>474.356782</td>\n",
       "    </tr>\n",
       "    <tr>\n",
       "      <th>3</th>\n",
       "      <td>4</td>\n",
       "      <td>474.065115</td>\n",
       "    </tr>\n",
       "    <tr>\n",
       "      <th>4</th>\n",
       "      <td>5</td>\n",
       "      <td>475.692731</td>\n",
       "    </tr>\n",
       "  </tbody>\n",
       "</table>\n",
       "</div>"
      ],
      "text/plain": [
       "   Week  Service Time\n",
       "0     1    475.026064\n",
       "1     2    476.487013\n",
       "2     3    474.356782\n",
       "3     4    474.065115\n",
       "4     5    475.692731"
      ]
     },
     "execution_count": 72,
     "metadata": {},
     "output_type": "execute_result"
    }
   ],
   "source": [
    "#Group Service Time by Week\n",
    "\n",
    "Week_ST = my_data[[\"Week\",\"Service Time\"]].groupby(['Week'], as_index=False).mean()\n",
    "Week_ST"
   ]
  },
  {
   "cell_type": "code",
   "execution_count": 73,
   "metadata": {},
   "outputs": [
    {
     "data": {
      "image/png": "[encoded data removed]",
      "text/plain": [
       "<Figure size 432x288 with 1 Axes>"
      ]
     },
     "metadata": {},
     "output_type": "display_data"
    }
   ],
   "source": [
    "#Boxplots to show the above table\n",
    "\n",
    "sns.set(style=\"whitegrid\")\n",
    "ax = sns.boxplot(x=\"Week\", y=\"Service Time\",data=my_data)"
   ]
  },
  {
   "cell_type": "code",
   "execution_count": 98,
   "metadata": {},
   "outputs": [
    {
     "data": {
      "text/plain": [
       "<seaborn.axisgrid.FacetGrid at 0x1a1c1a2f10>"
      ]
     },
     "execution_count": 98,
     "metadata": {},
     "output_type": "execute_result"
    },
    {
     "data": {
      "image/png": "[encoded data removed]",
      "text/plain": [
       "<Figure size 1097.44x1512 with 5 Axes>"
      ]
     },
     "metadata": {},
     "output_type": "display_data"
    }
   ],
   "source": [
    "#Visualizing avg Service Time given different weeks for specific supervisors.\n",
    "\n",
    "Week_ST = my_data[[\"Week\",\"Service Time\",'Supervisor']].groupby(['Week','Supervisor'], as_index=False).mean()\n",
    "grid = sns.FacetGrid(Week_ST, row='Week', size=4.2, aspect=3.6)\n",
    "grid.map(sns.barplot, 'Supervisor', 'Service Time', alpha=.5, ci=None)\n",
    "grid.add_legend()"
   ]
  },
  {
   "cell_type": "markdown",
   "metadata": {},
   "source": [
    "Well, this isn't very informative but we know that the average service time across weeks is roughly the same.\n",
    "So that's it for analyzing relationships with Service Time and other features. As per the correlation plot, we didn't find much of a correlation between Service Time and any of the features. \n",
    "\n",
    "#### So far, we used data wrangling and visualizations, to analyze the relationship of the features. Let's try something like a variable selection technique which may tell us the important features that maybe we couldn't figure so far! "
   ]
  },
  {
   "cell_type": "markdown",
   "metadata": {},
   "source": [
    "# Feature Importances to establish relationships!"
   ]
  },
  {
   "cell_type": "markdown",
   "metadata": {},
   "source": [
    "Before we can start, we need to encode the categorical values into digits. We can use label encoder for this case. But the problem that we create is that it would consider say 2>1 wherein that's not true for a categorical variable which isn't ordered. But for the sake of convenience and also that some of the categorical variables have a lot of levels, we will stick to label encoding!\n",
    "\n",
    "There are different ways of feature selection. You could subset selection, shrinkage methods(Lasso) or even dimensionality reduction. But because, we've done label encoding, the best method would be to use feature importances from tree classifiers, as they are not affected by ordinality much."
   ]
  },
  {
   "cell_type": "code",
   "execution_count": 1,
   "metadata": {},
   "outputs": [
    {
     "ename": "NameError",
     "evalue": "name 'my_data' is not defined",
     "output_type": "error",
     "traceback": [
      "\u001b[0;31m---------------------------------------------------------------------------\u001b[0m",
      "\u001b[0;31mNameError\u001b[0m                                 Traceback (most recent call last)",
      "\u001b[0;32m<ipython-input-1-99399626f591>\u001b[0m in \u001b[0;36m<module>\u001b[0;34m\u001b[0m\n\u001b[1;32m      3\u001b[0m \u001b[0;32mfrom\u001b[0m \u001b[0msklearn\u001b[0m\u001b[0;34m.\u001b[0m\u001b[0mpreprocessing\u001b[0m \u001b[0;32mimport\u001b[0m \u001b[0mLabelEncoder\u001b[0m\u001b[0;34m\u001b[0m\u001b[0;34m\u001b[0m\u001b[0m\n\u001b[1;32m      4\u001b[0m \u001b[0menc\u001b[0m \u001b[0;34m=\u001b[0m \u001b[0mLabelEncoder\u001b[0m\u001b[0;34m(\u001b[0m\u001b[0;34m)\u001b[0m\u001b[0;34m\u001b[0m\u001b[0;34m\u001b[0m\u001b[0m\n\u001b[0;32m----> 5\u001b[0;31m \u001b[0mmy__data\u001b[0m \u001b[0;34m=\u001b[0m \u001b[0mmy_data\u001b[0m\u001b[0;34m.\u001b[0m\u001b[0mcopy\u001b[0m\u001b[0;34m(\u001b[0m\u001b[0;34m)\u001b[0m\u001b[0;34m\u001b[0m\u001b[0;34m\u001b[0m\u001b[0m\n\u001b[0m\u001b[1;32m      6\u001b[0m \u001b[0mmy__data\u001b[0m\u001b[0;34m[\u001b[0m\u001b[0;34m'Site'\u001b[0m\u001b[0;34m]\u001b[0m \u001b[0;34m=\u001b[0m \u001b[0menc\u001b[0m\u001b[0;34m.\u001b[0m\u001b[0mfit_transform\u001b[0m\u001b[0;34m(\u001b[0m\u001b[0mmy__data\u001b[0m\u001b[0;34m[\u001b[0m\u001b[0;34m'Site'\u001b[0m\u001b[0;34m]\u001b[0m\u001b[0;34m)\u001b[0m\u001b[0;34m\u001b[0m\u001b[0;34m\u001b[0m\u001b[0m\n\u001b[1;32m      7\u001b[0m \u001b[0mmy__data\u001b[0m\u001b[0;34m[\u001b[0m\u001b[0;34m'Client'\u001b[0m\u001b[0;34m]\u001b[0m \u001b[0;34m=\u001b[0m \u001b[0menc\u001b[0m\u001b[0;34m.\u001b[0m\u001b[0mfit_transform\u001b[0m\u001b[0;34m(\u001b[0m\u001b[0mmy__data\u001b[0m\u001b[0;34m[\u001b[0m\u001b[0;34m'Client'\u001b[0m\u001b[0;34m]\u001b[0m\u001b[0;34m)\u001b[0m\u001b[0;34m\u001b[0m\u001b[0;34m\u001b[0m\u001b[0m\n",
      "\u001b[0;31mNameError\u001b[0m: name 'my_data' is not defined"
     ]
    }
   ],
   "source": [
    "#Encoding the categorical features into numerical digits\n",
    "\n",
    "from sklearn.preprocessing import LabelEncoder\n",
    "enc = LabelEncoder()\n",
    "my__data = my_data.copy()\n",
    "my__data['Site'] = enc.fit_transform(my__data['Site'])\n",
    "my__data['Client'] = enc.fit_transform(my__data['Client'])\n",
    "my__data['Supervisor'] = enc.fit_transform(my__data['Supervisor'])\n",
    "my__data.head()"
   ]
  },
  {
   "cell_type": "markdown",
   "metadata": {},
   "source": [
    "Great! Now let us just see the correlation table for the variables before we actually start with the feature importances techniques!"
   ]
  },
  {
   "cell_type": "markdown",
   "metadata": {},
   "source": [
    "## 1. Correlation - Heat Map Plot"
   ]
  },
  {
   "cell_type": "code",
   "execution_count": 76,
   "metadata": {},
   "outputs": [
    {
     "data": {
      "text/html": [
       "<div>\n",
       "<style scoped>\n",
       "    .dataframe tbody tr th:only-of-type {\n",
       "        vertical-align: middle;\n",
       "    }\n",
       "\n",
       "    .dataframe tbody tr th {\n",
       "        vertical-align: top;\n",
       "    }\n",
       "\n",
       "    .dataframe thead th {\n",
       "        text-align: right;\n",
       "    }\n",
       "</style>\n",
       "<table border=\"1\" class=\"dataframe\">\n",
       "  <thead>\n",
       "    <tr style=\"text-align: right;\">\n",
       "      <th></th>\n",
       "      <th>Site</th>\n",
       "      <th>Client</th>\n",
       "      <th>Supervisor</th>\n",
       "      <th>Agent</th>\n",
       "      <th>Week</th>\n",
       "      <th>Service Time</th>\n",
       "      <th>Quality Score</th>\n",
       "      <th>Service Time in Mins</th>\n",
       "    </tr>\n",
       "  </thead>\n",
       "  <tbody>\n",
       "    <tr>\n",
       "      <th>Site</th>\n",
       "      <td>1.000000</td>\n",
       "      <td>0.000000</td>\n",
       "      <td>-0.118262</td>\n",
       "      <td>-0.235753</td>\n",
       "      <td>0.000000</td>\n",
       "      <td>0.513717</td>\n",
       "      <td>-0.074154</td>\n",
       "      <td>0.513717</td>\n",
       "    </tr>\n",
       "    <tr>\n",
       "      <th>Client</th>\n",
       "      <td>0.000000</td>\n",
       "      <td>1.000000</td>\n",
       "      <td>0.531085</td>\n",
       "      <td>0.144369</td>\n",
       "      <td>0.000000</td>\n",
       "      <td>-0.427641</td>\n",
       "      <td>-0.423167</td>\n",
       "      <td>-0.427641</td>\n",
       "    </tr>\n",
       "    <tr>\n",
       "      <th>Supervisor</th>\n",
       "      <td>-0.118262</td>\n",
       "      <td>0.531085</td>\n",
       "      <td>1.000000</td>\n",
       "      <td>-0.313659</td>\n",
       "      <td>0.000000</td>\n",
       "      <td>-0.405929</td>\n",
       "      <td>-0.187928</td>\n",
       "      <td>-0.405929</td>\n",
       "    </tr>\n",
       "    <tr>\n",
       "      <th>Agent</th>\n",
       "      <td>-0.235753</td>\n",
       "      <td>0.144369</td>\n",
       "      <td>-0.313659</td>\n",
       "      <td>1.000000</td>\n",
       "      <td>0.000000</td>\n",
       "      <td>-0.043929</td>\n",
       "      <td>-0.078631</td>\n",
       "      <td>-0.043929</td>\n",
       "    </tr>\n",
       "    <tr>\n",
       "      <th>Week</th>\n",
       "      <td>0.000000</td>\n",
       "      <td>0.000000</td>\n",
       "      <td>0.000000</td>\n",
       "      <td>0.000000</td>\n",
       "      <td>1.000000</td>\n",
       "      <td>-0.003906</td>\n",
       "      <td>0.538174</td>\n",
       "      <td>-0.003906</td>\n",
       "    </tr>\n",
       "    <tr>\n",
       "      <th>Service Time</th>\n",
       "      <td>0.513717</td>\n",
       "      <td>-0.427641</td>\n",
       "      <td>-0.405929</td>\n",
       "      <td>-0.043929</td>\n",
       "      <td>-0.003906</td>\n",
       "      <td>1.000000</td>\n",
       "      <td>-0.010602</td>\n",
       "      <td>1.000000</td>\n",
       "    </tr>\n",
       "    <tr>\n",
       "      <th>Quality Score</th>\n",
       "      <td>-0.074154</td>\n",
       "      <td>-0.423167</td>\n",
       "      <td>-0.187928</td>\n",
       "      <td>-0.078631</td>\n",
       "      <td>0.538174</td>\n",
       "      <td>-0.010602</td>\n",
       "      <td>1.000000</td>\n",
       "      <td>-0.010602</td>\n",
       "    </tr>\n",
       "    <tr>\n",
       "      <th>Service Time in Mins</th>\n",
       "      <td>0.513717</td>\n",
       "      <td>-0.427641</td>\n",
       "      <td>-0.405929</td>\n",
       "      <td>-0.043929</td>\n",
       "      <td>-0.003906</td>\n",
       "      <td>1.000000</td>\n",
       "      <td>-0.010602</td>\n",
       "      <td>1.000000</td>\n",
       "    </tr>\n",
       "  </tbody>\n",
       "</table>\n",
       "</div>"
      ],
      "text/plain": [
       "                          Site    Client  Supervisor     Agent      Week  \\\n",
       "Site                  1.000000  0.000000   -0.118262 -0.235753  0.000000   \n",
       "Client                0.000000  1.000000    0.531085  0.144369  0.000000   \n",
       "Supervisor           -0.118262  0.531085    1.000000 -0.313659  0.000000   \n",
       "Agent                -0.235753  0.144369   -0.313659  1.000000  0.000000   \n",
       "Week                  0.000000  0.000000    0.000000  0.000000  1.000000   \n",
       "Service Time          0.513717 -0.427641   -0.405929 -0.043929 -0.003906   \n",
       "Quality Score        -0.074154 -0.423167   -0.187928 -0.078631  0.538174   \n",
       "Service Time in Mins  0.513717 -0.427641   -0.405929 -0.043929 -0.003906   \n",
       "\n",
       "                      Service Time  Quality Score  Service Time in Mins  \n",
       "Site                      0.513717      -0.074154              0.513717  \n",
       "Client                   -0.427641      -0.423167             -0.427641  \n",
       "Supervisor               -0.405929      -0.187928             -0.405929  \n",
       "Agent                    -0.043929      -0.078631             -0.043929  \n",
       "Week                     -0.003906       0.538174             -0.003906  \n",
       "Service Time              1.000000      -0.010602              1.000000  \n",
       "Quality Score            -0.010602       1.000000             -0.010602  \n",
       "Service Time in Mins      1.000000      -0.010602              1.000000  "
      ]
     },
     "execution_count": 76,
     "metadata": {},
     "output_type": "execute_result"
    },
    {
     "data": {
      "image/png": "[encoded data removed]",
      "text/plain": [
       "<Figure size 1440x720 with 2 Axes>"
      ]
     },
     "metadata": {},
     "output_type": "display_data"
    }
   ],
   "source": [
    "#Code for drawing a heatmap using seaborn\n",
    "plt.figure(figsize=(20,10))\n",
    "heat_map= my__data.corr()\n",
    "sns.heatmap(heat_map,annot=True)\n",
    "heat_map"
   ]
  },
  {
   "cell_type": "markdown",
   "metadata": {},
   "source": [
    "Well, now we see something different. Now we see that Quality Score has quite a negative correlation with Client as well which wasn't observed before. Also, Service Time has correlations with Site, Client and Supervisor which wasn't seen before! Let's further investigate with other feature importance methods! "
   ]
  },
  {
   "cell_type": "markdown",
   "metadata": {},
   "source": [
    "## 2. Feature Importance using Tree-Based Method"
   ]
  },
  {
   "cell_type": "markdown",
   "metadata": {},
   "source": [
    "Feature importance gives you a score for each feature of your data, the higher the score more important or relevant is the feature towards your output variable.\n",
    "\n",
    "###### Features important for Quality Score (ExtraTreesRegressor)"
   ]
  },
  {
   "cell_type": "code",
   "execution_count": 77,
   "metadata": {
    "scrolled": true
   },
   "outputs": [
    {
     "name": "stdout",
     "output_type": "stream",
     "text": [
      "[(0.3605, 'Week'), (0.35, 'Agent'), (0.1795, 'Client'), (0.0959, 'Site'), (0.0142, 'Supervisor')]\n"
     ]
    },
    {
     "data": {
      "image/png": "[encoded data removed]",
      "text/plain": [
       "<Figure size 432x288 with 1 Axes>"
      ]
     },
     "metadata": {},
     "output_type": "display_data"
    }
   ],
   "source": [
    "#Using ExtraTreeRegressor to find the most important features with respect to Quality Score\n",
    "\n",
    "\n",
    "X = my__data.iloc[:,0:5]\n",
    "Y = my__data.iloc[:,6]\n",
    "\n",
    "#X=X.astype(int)\n",
    "#Y = Y.astype(int)\n",
    "\n",
    "from sklearn.ensemble import ExtraTreesRegressor\n",
    "model = ExtraTreesRegressor(criterion = 'mse',n_estimators = 300)\n",
    "model.fit(X,Y)\n",
    "print(sorted(zip(map(lambda x: round(x, 4), model.feature_importances_), X.columns),reverse=True))\n",
    "feat_importances = pd.Series(model.feature_importances_, index=X.columns)\n",
    "feat_importances.nlargest(5).plot(kind='barh')\n",
    "plt.show()"
   ]
  },
  {
   "cell_type": "markdown",
   "metadata": {},
   "source": [
    "###### Features important for Service Time (ExtraTreesRegressor)"
   ]
  },
  {
   "cell_type": "code",
   "execution_count": 78,
   "metadata": {
    "scrolled": true
   },
   "outputs": [
    {
     "name": "stdout",
     "output_type": "stream",
     "text": [
      "[(0.6205, 'Site'), (0.2179, 'Client'), (0.0844, 'Supervisor'), (0.0553, 'Agent'), (0.0219, 'Week')]\n"
     ]
    },
    {
     "data": {
      "image/png": "[encoded data removed]",
      "text/plain": [
       "<Figure size 432x288 with 1 Axes>"
      ]
     },
     "metadata": {},
     "output_type": "display_data"
    }
   ],
   "source": [
    "#Using ExtraTreeRegressor to find the most important features with respect to Service Time.\n",
    "\n",
    "\n",
    "X = my__data.iloc[:,0:5]\n",
    "Y = my__data.iloc[:,5]\n",
    "\n",
    "#X=X.astype(int)\n",
    "#Y = Y.astype(int)\n",
    "from sklearn.ensemble import ExtraTreesRegressor\n",
    "model = ExtraTreesRegressor(criterion='mse',n_estimators = 300)\n",
    "model.fit(X,Y)\n",
    "print(sorted(zip(map(lambda x: round(x, 4), model.feature_importances_), X.columns), reverse=True))\n",
    "feat_importances = pd.Series(model.feature_importances_, index=X.columns)\n",
    "feat_importances.nlargest(25).plot(kind='barh')\n",
    "plt.show()"
   ]
  },
  {
   "cell_type": "markdown",
   "metadata": {},
   "source": [
    "So, the most important features for both Quality Score are Agent and Week. It does make sense a bit because the metrics are directly associated with agents and could differ from week to week given how they're performing!\n",
    "\n",
    "The most important features for Service Time are Client and Site. This does make sense to an extent as your service time is directly dependent on the customers you're serving and the site they're at. \n",
    "\n",
    "\n",
    "Let's confirm what we saw with other tree based methods!"
   ]
  },
  {
   "cell_type": "markdown",
   "metadata": {},
   "source": [
    "###### Features important for Quality Score (RandomForestRegressor)"
   ]
  },
  {
   "cell_type": "code",
   "execution_count": 94,
   "metadata": {
    "scrolled": true
   },
   "outputs": [
    {
     "name": "stdout",
     "output_type": "stream",
     "text": [
      "[(0.4086, 'Week'), (0.2898, 'Agent'), (0.1759, 'Client'), (0.0792, 'Site'), (0.0465, 'Supervisor')]\n"
     ]
    },
    {
     "data": {
      "image/png": "[encoded data removed]",
      "text/plain": [
       "<Figure size 432x288 with 1 Axes>"
      ]
     },
     "metadata": {},
     "output_type": "display_data"
    }
   ],
   "source": [
    "#Using RandomForestRegressor to find the most important features with respect to Quality Score\n",
    "X = my__data.iloc[:,0:5]\n",
    "Y = my__data.iloc[:,6]\n",
    "\n",
    "\n",
    "from sklearn.ensemble import RandomForestRegressor\n",
    "regressorRandom=RandomForestRegressor(criterion='mse',n_estimators = 300)\n",
    "regressorRandom.fit(X,Y)\n",
    "sorted(zip(map(lambda x: round(x, 4), regressorRandom.feature_importances_), X.columns), \n",
    "             reverse=True)\n",
    "print(sorted(zip(map(lambda x: round(x, 4), regressorRandom.feature_importances_), X.columns),reverse=True))\n",
    "feat_importances = pd.Series(regressorRandom.feature_importances_, index=X.columns)\n",
    "feat_importances.nlargest(5).plot(kind='barh')\n",
    "plt.show()"
   ]
  },
  {
   "cell_type": "markdown",
   "metadata": {},
   "source": [
    "###### Features important for Service Time (RandomForestRegressor)"
   ]
  },
  {
   "cell_type": "code",
   "execution_count": 95,
   "metadata": {},
   "outputs": [
    {
     "name": "stdout",
     "output_type": "stream",
     "text": [
      "[(0.6431, 'Site'), (0.2489, 'Client'), (0.0573, 'Agent'), (0.0292, 'Supervisor'), (0.0215, 'Week')]\n"
     ]
    },
    {
     "data": {
      "image/png": "[encoded data removed]",
      "text/plain": [
       "<Figure size 432x288 with 1 Axes>"
      ]
     },
     "metadata": {},
     "output_type": "display_data"
    }
   ],
   "source": [
    "#Using RandomForestRegressor to find the most important features with respect to Service Time\n",
    "\n",
    "X = my__data.iloc[:,0:5]\n",
    "Y = my__data.iloc[:,5]\n",
    "\n",
    "\n",
    "from sklearn.ensemble import RandomForestRegressor\n",
    "regressorRandom=RandomForestRegressor(criterion='mse',n_estimators = 300)\n",
    "regressorRandom.fit(X,Y)\n",
    "sorted(zip(map(lambda x: round(x, 4), regressorRandom.feature_importances_), X.columns), \n",
    "             reverse=True)\n",
    "print(sorted(zip(map(lambda x: round(x, 4), regressorRandom.feature_importances_), X.columns),reverse=True))\n",
    "feat_importances = pd.Series(regressorRandom.feature_importances_, index=X.columns)\n",
    "feat_importances.nlargest(5).plot(kind='barh')\n",
    "plt.show()"
   ]
  },
  {
   "cell_type": "markdown",
   "metadata": {},
   "source": [
    "This gives us the same results as we saw before! We're on the right track!"
   ]
  },
  {
   "cell_type": "markdown",
   "metadata": {},
   "source": [
    "## Machine Learning Opportunities!"
   ]
  },
  {
   "cell_type": "markdown",
   "metadata": {},
   "source": [
    "##### We could make use of Machine Learning techniques to think of two great opportunities:\n",
    "\n",
    "1. Predicting the future Quality Scores/Service Time in advance on the basis of first week performance to address adjustments and better approaches to improve these metrics for the coming weeks.\n",
    "\n",
    "2. Clustering the bad performing agents from the good ones based on the week, after the consecutive 5 weeks, to address individual agent underperformances."
   ]
  },
  {
   "cell_type": "markdown",
   "metadata": {},
   "source": [
    "### Opportunity 1. Prediction of metrics!\n",
    "\n",
    "Here, what I'm going to do is prepare a train file which only has data for the first week. My test file will have data from the remaining. I will train my model on the train file and predict the metrics for the coming weeks. That is the objective!"
   ]
  },
  {
   "cell_type": "markdown",
   "metadata": {},
   "source": [
    "1. Predicting Quality Score"
   ]
  },
  {
   "cell_type": "code",
   "execution_count": 81,
   "metadata": {},
   "outputs": [],
   "source": [
    "#Creating train and test data sets for this scenario\n",
    "\n",
    "X = my__data.iloc[:,0:5]\n",
    "\n",
    "X_train = X[X['Week'] == 1]\n",
    "X_test = X[X['Week'] != 1]\n",
    "\n",
    "\n",
    "Y_train = my__data[my__data['Week'] == 1]\n",
    "Y_train = Y_train['Quality Score']\n",
    "Y_test = my__data[my__data['Week'] != 1]\n",
    "Y_test = Y_test['Quality Score']"
   ]
  },
  {
   "cell_type": "code",
   "execution_count": 82,
   "metadata": {},
   "outputs": [
    {
     "data": {
      "text/plain": [
       "1.2186200587606848"
      ]
     },
     "execution_count": 82,
     "metadata": {},
     "output_type": "execute_result"
    }
   ],
   "source": [
    "#Using RandomForestRegressor to predict values of Quality Score\n",
    "\n",
    "from sklearn.ensemble import RandomForestRegressor\n",
    "regressorRandom=RandomForestRegressor()\n",
    "regressorRandom.fit(X_train,Y_train)\n",
    "Y_pred1=regressorRandom.predict(X_test)\n",
    "\n",
    "from sklearn.metrics import mean_absolute_error\n",
    "mean_absolute_error(Y_pred1,Y_test)"
   ]
  },
  {
   "cell_type": "markdown",
   "metadata": {},
   "source": [
    "2. Predicting Service Time"
   ]
  },
  {
   "cell_type": "code",
   "execution_count": 89,
   "metadata": {},
   "outputs": [],
   "source": [
    "#Creating train and test data sets for this scenario\n",
    "X = my__data.iloc[:,0:5]\n",
    "\n",
    "X_train = X[X['Week'] == 1]\n",
    "X_train = X_train.iloc[:,0:2]\n",
    "X_test = X[X['Week'] != 1]\n",
    "X_test = X_test.iloc[:,0:2]\n",
    "\n",
    "Y_train = my__data[my__data['Week'] == 1]\n",
    "Y_train = Y_train['Service Time']\n",
    "Y_test = my__data[my__data['Week'] != 1]\n",
    "Y_test = Y_test['Service Time']"
   ]
  },
  {
   "cell_type": "code",
   "execution_count": 84,
   "metadata": {},
   "outputs": [
    {
     "data": {
      "text/plain": [
       "6.195427913924971"
      ]
     },
     "execution_count": 84,
     "metadata": {},
     "output_type": "execute_result"
    }
   ],
   "source": [
    "#Using RandomForestRegressor to predict values of Service Time\n",
    "\n",
    "\n",
    "from sklearn.ensemble import RandomForestRegressor\n",
    "regressorRandom=RandomForestRegressor()\n",
    "regressorRandom.fit(X_train,Y_train)\n",
    "Y_pred1=regressorRandom.predict(X_test)\n",
    "\n",
    "from sklearn.metrics import mean_absolute_error\n",
    "mean_absolute_error(Y_pred1,Y_test)"
   ]
  },
  {
   "cell_type": "markdown",
   "metadata": {},
   "source": [
    "Well, the mean absolute errors are very low. So we've done a good job in predictions. I could have used a time series model or lasso regression (as it performs variable selection) but random forest regressor also does feature selection and is not affected by encoded nominal categorical values, so it's a good choice!\n",
    "\n",
    "We can use these predictions to good use and prepare strategies in advance!"
   ]
  },
  {
   "cell_type": "markdown",
   "metadata": {},
   "source": [
    "### Opportunity 2.  Clustering of Agents!\n",
    "\n",
    "My idea was to basically cluster agents say for my example below, according to service time so as to find clusters depending on how much service time they take. So, the ones taking a lot of service time could be investigated further for the reasons behind it. So below, I've just shown a quick example of how clustering can be useful."
   ]
  },
  {
   "cell_type": "code",
   "execution_count": 85,
   "metadata": {},
   "outputs": [],
   "source": [
    "#Using K-Means clustering on Agent and Service Time to cluster each agent having similar service times\n",
    "\n",
    "from sklearn.cluster import KMeans\n",
    "x=my_data[['Agent',\"Service Time\"]].groupby(['Agent'], as_index=False).mean().sort_values(by='Agent', ascending=True)\n",
    "kmeans = KMeans(n_clusters=3, random_state=0).fit(x)\n",
    "y_kmeans = kmeans.predict(x)"
   ]
  },
  {
   "cell_type": "code",
   "execution_count": 86,
   "metadata": {},
   "outputs": [
    {
     "data": {
      "text/plain": [
       "array([2, 2, 2, 2, 2, 2, 2, 2, 1, 1, 1, 1, 1, 1, 1, 1, 1, 1, 1, 1, 0, 0,\n",
       "       0, 0, 2, 2, 2, 2, 2, 2, 2, 2, 1, 1, 1, 1, 1, 1, 1, 1, 1, 1, 1, 1,\n",
       "       0, 0, 0, 0], dtype=int32)"
      ]
     },
     "execution_count": 86,
     "metadata": {},
     "output_type": "execute_result"
    }
   ],
   "source": [
    "y_kmeans"
   ]
  },
  {
   "cell_type": "code",
   "execution_count": 100,
   "metadata": {
    "scrolled": false
   },
   "outputs": [
    {
     "data": {
      "text/plain": [
       "Text(0, 0.5, 'Service Time')"
      ]
     },
     "execution_count": 100,
     "metadata": {},
     "output_type": "execute_result"
    },
    {
     "data": {
      "image/png": "[encoded data removed]",
      "text/plain": [
       "<Figure size 1440x720 with 1 Axes>"
      ]
     },
     "metadata": {},
     "output_type": "display_data"
    }
   ],
   "source": [
    "#Visualizing the clusters\n",
    "\n",
    "plt.figure(figsize=(20,10))\n",
    "plt.scatter(x['Agent'].sort_values().astype('str'), x['Service Time'], c=y_kmeans, s=50, cmap='rainbow')\n",
    "plt.xlabel(\"Agent\")\n",
    "plt.ylabel('Service Time')"
   ]
  },
  {
   "cell_type": "markdown",
   "metadata": {},
   "source": [
    "From what I can see, I can divide them into three clusters:\n",
    "\n",
    "    1. Aqua - The agents with the highest average service times.\n",
    "    2. Red - The agents with mean average service times.\n",
    "    3. Violet - The agents with lowest average service times.\n",
    "\n",
    "This way, we can dig deeper and investigate these agents based on the given clusters!"
   ]
  }
 ],
 "metadata": {
  "kernelspec": {
   "display_name": "Python 3",
   "language": "python",
   "name": "python3"
  },
  "language_info": {
   "codemirror_mode": {
    "name": "ipython",
    "version": 3
   },
   "file_extension": ".py",
   "mimetype": "text/x-python",
   "name": "python",
   "nbconvert_exporter": "python",
   "pygments_lexer": "ipython3",
   "version": "3.7.6"
  }
 },
 "nbformat": 4,
 "nbformat_minor": 2
}
